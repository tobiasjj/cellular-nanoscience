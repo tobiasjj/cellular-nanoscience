{
 "cells": [
  {
   "cell_type": "markdown",
   "metadata": {},
   "source": [
    "Copyright 2018, 2019 Tobias Jachowski\n",
    "\n",
    "Licensed under the Apache License, Version 2.0 (the \"License\");\n",
    "you may not use this file except in compliance with the License.\n",
    "You may obtain a copy of the License at\n",
    "\n",
    "   http://www.apache.org/licenses/LICENSE-2.0\n",
    "\n",
    "Unless required by applicable law or agreed to in writing, software\n",
    "distributed under the License is distributed on an \"AS IS\" BASIS,\n",
    "WITHOUT WARRANTIES OR CONDITIONS OF ANY KIND, either express or implied.\n",
    "See the License for the specific language governing permissions and\n",
    "limitations under the License."
   ]
  },
  {
   "cell_type": "code",
   "execution_count": 2,
   "metadata": {},
   "outputs": [],
   "source": [
    "import matplotlib\n",
    "matplotlib.use('module://ipympl.backend_nbagg')\n",
    "\n",
    "import imageio\n",
    "import os\n",
    "import time\n",
    "import pathlib\n",
    "import tifffile\n",
    "import numpy as np\n",
    "\n",
    "from matplotlib import pyplot as plt\n",
    "plt.ion()\n",
    "from ipywidgets import interact, IntSlider\n",
    "from IPython.core.display import Image, display\n",
    "from matplotlib.widgets import SpanSelector\n",
    "\n",
    "\n",
    "def file_and_dir(filename=None, directory=None):\n",
    "    filename = filename or \"\"\n",
    "    fdir = os.path.dirname(filename)\n",
    "    ffile = os.path.basename(filename)\n",
    "\n",
    "    ddir = directory or \".\"\n",
    "\n",
    "    if (ffile == \"\" or ffile == \".\" or ffile == \"..\"):\n",
    "        directory = os.path.join(ddir, filename, \"\")\n",
    "        absdir = os.path.realpath(directory)\n",
    "        return None, absdir, None\n",
    "\n",
    "    directory = os.path.join(ddir, fdir, \"\")\n",
    "    absdir = os.path.realpath(directory)\n",
    "    absfile = os.path.join(absdir, ffile)\n",
    "\n",
    "    return ffile, absdir, absfile\n",
    "\n",
    "\n",
    "def files(directory, prefix=None, suffix=None, extension=None, sort_key=None):\n",
    "    \"\"\"\n",
    "    Get filenames of a directory in the order sorted to their filename or a\n",
    "    given key function.\n",
    "\n",
    "    Parameters\n",
    "    ----------\n",
    "    directory : str\n",
    "        The directory the files are located in.\n",
    "    prefix : str\n",
    "        Get only the files beginning with `prefix`.\n",
    "    suffix : str\n",
    "        Get only the files ending with `suffix`.\n",
    "    extension : str, optional\n",
    "        The extension of the files that should be returned. Default is\n",
    "        '.txt'.\n",
    "    sort_key : function\n",
    "        Function to be applied to every filename found, before sorting.\n",
    "    \"\"\"\n",
    "    prefix = prefix or ''\n",
    "    suffix = suffix or ''\n",
    "    extension = extension or ''\n",
    "    files = [file_and_dir(filename=name, directory=directory)[2]\n",
    "             for name in os.listdir(directory)\n",
    "             if os.path.isfile(os.path.join(directory, name))\n",
    "             and name.startswith(prefix)\n",
    "             and name.endswith(''.join((suffix, extension)))]\n",
    "    files.sort(key=sort_key)\n",
    "    return files\n",
    "\n",
    "\n",
    "def dtype_info(dtype=None, array=None):\n",
    "    if array is not None:\n",
    "        dtype = dtype or array.dtype\n",
    "    try:\n",
    "        info = np.iinfo(dtype)\n",
    "    except:\n",
    "        info = np.finfo(dtype)\n",
    "    return dtype, info\n",
    "\n",
    "\n",
    "def lookup_table(dtype, minimum=None, maximum=None, dtype_to=None):\n",
    "    dtype, info = dtype_info(dtype=dtype)\n",
    "    dtype_to = dtype_to or dtype\n",
    "    dtype_to, info_to = dtype_info(dtype=dtype_to)\n",
    "\n",
    "    minimum = minimum or info.min\n",
    "    maximum = maximum or info.max\n",
    "    minimum = max(minimum, info.min)\n",
    "    maximum = min(maximum, info.max)\n",
    "    \n",
    "    # Create a lookup table \n",
    "    lut = np.zeros(2**info.bits, dtype=dtype_to)\n",
    "    lut[:minimum] = info_to.min\n",
    "    lut[minimum:maximum + 1] = np.linspace(info_to.min, info_to.max, maximum - minimum + 1, dtype=dtype_to)\n",
    "    lut[maximum:] = info_to.max\n",
    "\n",
    "    return lut\n",
    "\n",
    "\n",
    "def adjust_contrast(image, min, max):\n",
    "    dtype = image.dtype\n",
    "    lut = lookup_table(dtype, min, max)\n",
    "    return np.take(lut, image)\n",
    "\n",
    "\n",
    "def convert_image(image, dtype_to, min, max):\n",
    "    dtype = image.dtype\n",
    "    lut = lookup_table(dtype, min, max, dtype_to)\n",
    "    return np.take(lut, image)\n",
    "\n",
    "\n",
    "def convert_uin16_uint8(image, minimum=None, maximum=None, width=None):\n",
    "    if width is not None:\n",
    "        # adjust histogramm according to given width, centered around the median\n",
    "        #hist, values = np.histogram(im, bins=2**16-1)\n",
    "        #middle = hist.argmax()\n",
    "        median = np.median(image)\n",
    "        minimum = median - width / 2\n",
    "        maximum = median + width / 2 - minimum\n",
    "    else:\n",
    "        minimum = minimum or image.min()\n",
    "        maximum = maximum or image.max()\n",
    "        maximum -= minimum\n",
    "    return convert_image(image, minimum, maximum, 'uint8')\n",
    "\n",
    "\n",
    "class adjust_image_contrast(object):\n",
    "    def __init__(self, image=None, dtype=None):\n",
    "        \"\"\"\n",
    "        Display images of a directory with an interactive widget and a slider in a\n",
    "        jupyter notebook, in the order sorted to their filename or a given key\n",
    "        function.\n",
    "\n",
    "        Parameters\n",
    "        ----------\n",
    "        image : np.ndarray\n",
    "        dtype : np.ndarray.dtype\n",
    "        \"\"\"\n",
    "        if dtype is not None or image is not None:\n",
    "            dtype, info = dtype_info(array=image, dtype=dtype)\n",
    "            self.min = info.min\n",
    "            self.max = info.max\n",
    "        else:\n",
    "            self.min = None\n",
    "            self.max = None\n",
    "\n",
    "        self.fig, axes = plt.subplots(nrows=2, ncols=2)\n",
    "        self.axes = axes.flatten()\n",
    "        \n",
    "        self.image = None\n",
    "        if image is not None:\n",
    "            self.process_image(image)\n",
    "\n",
    "    def __call__(self, image=None):\n",
    "        self.process_image(image)\n",
    "\n",
    "    def process_image(self, image=None):\n",
    "        if image is None:\n",
    "            image = self.image\n",
    "        else:\n",
    "            self.image = image\n",
    "            self.axes[0].clear()    \n",
    "            self.axes[0].imshow(image, cmap=plt.cm.gray)\n",
    "            self.axes[2].clear()\n",
    "            self.axes[2].hist(image.ravel(), bins=(2**8 - 1))\n",
    "            self.spanselector = SpanSelector(self.axes[2], self.set_min_max_hist,\n",
    "                                             'horizontal', useblit=True)\n",
    "            self.axspan = self.axes[2].axvspan(self.min, self.max,\n",
    "                                               facecolor='y', alpha=0.2)\n",
    "\n",
    "        self.axes[1].clear()\n",
    "        self.axes[3].clear()\n",
    "        self.image_contrast = adjust_contrast(image, self.min, self.max)\n",
    "        im_c = self.image_contrast\n",
    "        self.axes[1].imshow(im_c, cmap=plt.cm.gray)\n",
    "        self.axes[3].hist(im_c.ravel(), bins=(2**8 - 1))\n",
    "    \n",
    "    def set_min_max_hist(self, minimum, maximum):\n",
    "        \"\"\"\n",
    "        Set the timespan according to the SpanSelector and update the figure\n",
    "        accordingly. Call all registered callback functions.\n",
    "\n",
    "        This function is called upon any change of the SpanSelector.\n",
    "\n",
    "        Parameters\n",
    "        ----------\n",
    "        min : float\n",
    "        max : float\n",
    "        \"\"\"\n",
    "        self.min = int(np.round(minimum))\n",
    "        self.max = int(np.round(maximum))\n",
    "        try:\n",
    "            dtype, info = dtype_info(array=self.image)\n",
    "            self.min = max(self.min, info.min)\n",
    "            self.max = min(self.max, info.max)\n",
    "        except:\n",
    "            pass\n",
    "        self.axspan.set_xy([[minimum, 0],  # lower left corner\n",
    "                            [minimum, 1],  # upper left corner\n",
    "                            [maximum, 1],  # upper right corner\n",
    "                            [maximum, 0],  # lower right corner\n",
    "                            [minimum, 0]])  # lower left corner\n",
    "        self.process_image()\n",
    "\n",
    "\n",
    "class process_images(object):\n",
    "    def __init__(self, process, directory, prefix=None, suffix=None, extension='.png',\n",
    "                 sort_key=None, idx_r=None, idx_c=None):\n",
    "        \"\"\"\n",
    "        Display images of a directory with an interactive widget and a slider in a\n",
    "        jupyter notebook, in the order sorted to their filename or a given key\n",
    "        function.\n",
    "\n",
    "        Parameters\n",
    "        ----------\n",
    "        process : function\n",
    "            function, which takes an image (np.ndarray) as an argument\n",
    "        directory : str\n",
    "            The directory the images to be displayed are located in.\n",
    "        prefix : str\n",
    "            Display only the files beginning with `prefix`.\n",
    "        suffix : str\n",
    "            Display only the files ending with `suffix`.\n",
    "        extension : str, optional\n",
    "            The extension of the images that should be displayed. Default is\n",
    "            '.png'.\n",
    "        sort_key : function\n",
    "            Function to be applied to every image filename found, before sorting.\n",
    "        \"\"\"\n",
    "        self.images = files(directory, prefix, suffix, extension, sort_key)\n",
    "        self.process = process\n",
    "        self.idx_r = idx_r or slice(None)\n",
    "        self.idx_c = idx_c or slice(None)\n",
    "\n",
    "        stop = len(self.images)\n",
    "        if stop < 1:\n",
    "            print(\"No file found with prefix '%s', suffix '%s', and extension '%s'\"\n",
    "                  % (prefix, suffix, extension))\n",
    "            return\n",
    "\n",
    "        slider = IntSlider(min=0, max=stop-1, step=1, value=0,\n",
    "                           description='Image:')\n",
    "        \n",
    "        def process_image(i):\n",
    "            self.process_image(i)\n",
    "\n",
    "        self.interact = interact(process_image, i=slider)\n",
    "    \n",
    "    def process_image(self, i):\n",
    "        image = self.images[i]\n",
    "        try:\n",
    "            print(image)\n",
    "            try:\n",
    "                im = imageio.imread(image)\n",
    "            except:\n",
    "                im = tifffile.imread(image)\n",
    "            self.process(im[self.idx_r, self.idx_c])\n",
    "        except:\n",
    "            print('No image found!')\n",
    "\n",
    "\n",
    "def filterby(files, prefix=None, suffix=None, extension=None):\n",
    "    prefix = prefix or ''\n",
    "    suffix = suffix or ''\n",
    "    extension = extension or ''\n",
    "    for file in files:\n",
    "        if file.startswith(prefix) and file.endswith(''.join((suffix, extension))):\n",
    "            yield file\n",
    "\n",
    "\n",
    "def scalebar(image, resolution, pos_x_rel=0.96, pos_y_rel=0.96, width=1, height=0.1, value=None):\n",
    "    width_px = int(np.round(width / resolution))\n",
    "    height_px = int(np.round(height / resolution))\n",
    "    \n",
    "    image_height, image_width = image.shape\n",
    "    pos_x = int(np.round(pos_x_rel * image_width))\n",
    "    pos_y = int(np.round(pos_y_rel * image_height))\n",
    "    \n",
    "    dtype, info = dtype_info(array=image)\n",
    "    value = value or info.max\n",
    "    \n",
    "    image[pos_y - height_px:pos_y, pos_x - width_px:pos_x] = value\n",
    "\n",
    "\n",
    "def create_video(directory, prefix=None, suffix=None, extension=None, resolution=1,\n",
    "                 fps=None, decimating=1, fps_speedup=1, min_grey=None, max_grey=None,\n",
    "                 videosuffix='.mp4'):\n",
    "    # Get all files with correct prefix, suffix and extension in the directory\n",
    "    for root, dirs, filenames in os.walk(directory):\n",
    "        filenames = list(filterby(filenames, prefix=prefix, extension=extension))\n",
    "        break\n",
    "\n",
    "    # Create video, if the number of images is sufficient\n",
    "    if len(filenames) >= 2:\n",
    "        print('Creating Video of files in {} ...'.format(root))\n",
    "\n",
    "        def creation_time(filename):\n",
    "            fullname = os.path.join(root, filename)\n",
    "            return os.stat(fullname).st_mtime\n",
    "\n",
    "        filenames.sort(key=creation_time)\n",
    "        start_time = os.stat(os.path.join(root, filenames[0])).st_mtime\n",
    "        end_time = os.stat(os.path.join(root, filenames[-1])).st_mtime\n",
    "        duration = end_time - start_time\n",
    "        _fps = fps or (len(filenames) - 1) / duration * fps_speedup / decimating\n",
    "        print('Frames per second: {:.2f}'.format(_fps))\n",
    "        videoname = ''.join((prefix, videosuffix))\n",
    "        savename = os.path.join(root, '..', videoname)\n",
    "        if savename.endswith('.tif'):\n",
    "            writer = imageio.get_writer(savename)\n",
    "        else:\n",
    "            # writer = imageio.get_writer(savename, fps=_fps)# pixelformat='gray16le')\n",
    "            writer = imageio.get_writer(savename, fps=_fps, quality=10)\n",
    "\n",
    "        if fps is not None:\n",
    "            decimating = 1\n",
    "        for filename in filenames[::decimating]:\n",
    "            fullname = os.path.join(root, filename)\n",
    "            #im = imageio.imread(fullname, format='tif', multifile=False)\n",
    "            im = tifffile.imread(fullname)\n",
    "            #scalebar(im, resolution, width=500, height=50)\n",
    "            #width = cp.max - cp.min\n",
    "            #print('Width in grey values: {:.1f}'.format(width))\n",
    "            #im = convert_uin16_uint8(im, width=width)\n",
    "            im = convert_image(im, 'uint8', min_grey, max_grey)\n",
    "            writer.append_data(im)\n",
    "\n",
    "        writer.close()\n",
    "        print('... Created video {}.'.format(videoname))"
   ]
  },
  {
   "cell_type": "code",
   "execution_count": 25,
   "metadata": {},
   "outputs": [
    {
     "data": {
      "application/vnd.jupyter.widget-view+json": {
       "model_id": "14ed7ac5f73c4b61a97dcb59f66d32b7",
       "version_major": 2,
       "version_minor": 0
      },
      "text/plain": [
       "Canvas(toolbar=Toolbar(toolitems=[('Home', 'Reset original view', 'home', 'home'), ('Back', 'Back to previous …"
      ]
     },
     "metadata": {},
     "output_type": "display_data"
    },
    {
     "data": {
      "application/vnd.jupyter.widget-view+json": {
       "model_id": "4f5f29cb984e42ee8119cd610ddc64d4",
       "version_major": 2,
       "version_minor": 0
      },
      "text/plain": [
       "interactive(children=(IntSlider(value=0, description='Image:', max=2284), Output()), _dom_classes=('widget-int…"
      ]
     },
     "metadata": {},
     "output_type": "display_data"
    }
   ],
   "source": [
    "# Adjust the contrast\n",
    "directory = '../images/'\n",
    "prefix = 'B00'\n",
    "suffix = None\n",
    "extension = '.tif'\n",
    "\n",
    "# Show interactive widgets to adjust the contrast of many images by\n",
    "#   1. Create a contrast process object, to adjust the contrast\n",
    "#   2. Create a process image object, to interactively show individual\n",
    "#      images before and after processing\n",
    "cp = adjust_image_contrast()\n",
    "pi = process_images(cp, directory, prefix=prefix, suffix=suffix, extension=extension)"
   ]
  },
  {
   "cell_type": "code",
   "execution_count": 26,
   "metadata": {},
   "outputs": [
    {
     "name": "stdout",
     "output_type": "stream",
     "text": [
      "# minimum, maximum = 30122, 32414  # , B00\n"
     ]
    }
   ],
   "source": [
    "# minimum, maximum =   # Overwrite the selected contrast min max values\n",
    "# cp.min, cp.max = 20000, 50000\n",
    "resolution = 16  # nm/px resolution for the scalebar\n",
    "videosuffix = '.mp4'  # Select the type of video to be produced\n",
    "\n",
    "# Either, autodetect fps with the following modifications:\n",
    "decimating = 1  # read every `decimating` image to produce the video\n",
    "fps_speedup = 1  # factor of speedup of the video\n",
    "# Or:\n",
    "fps = None  # set the final fps of the video\n",
    "\n",
    "print('# minimum, maximum = {}, {}  # {}, {}'.format(cp.min, cp.max, os.path.basename(directory), prefix))"
   ]
  },
  {
   "cell_type": "code",
   "execution_count": 27,
   "metadata": {},
   "outputs": [
    {
     "name": "stdout",
     "output_type": "stream",
     "text": [
      "Creating Video of files in ../images/ ...\n",
      "Frames per second: 14.16\n",
      "... Created video B00.mp4.\n"
     ]
    }
   ],
   "source": [
    "# Create the video\n",
    "create_video(directory, prefix=prefix, suffix=suffix, extension=extension, resolution=resolution,\n",
    "             fps=fps, decimating=decimating, fps_speedup=fps_speedup, min_grey=cp.min, max_grey=cp.max,\n",
    "             videosuffix=videosuffix)"
   ]
  },
  {
   "cell_type": "code",
   "execution_count": null,
   "metadata": {},
   "outputs": [],
   "source": [
    "# OLD FUNCTIONS\n",
    "\n",
    "\"\"\"\n",
    "def lookup_table(dtype, min=None, max=None):\n",
    "    dtype, info = dtype_info(dtype=dtype)\n",
    "\n",
    "    min = min or info.min\n",
    "    max = max or info.max\n",
    "    max = max - min\n",
    "\n",
    "    lut = np.arange(info.min, info.max + 1, dtype=float)\n",
    "    lut -= min\n",
    "    lut *= info.max / max\n",
    "    lut = np.round(lut)\n",
    "    lut[lut < info.min] = info.min\n",
    "    lut[lut > info.max] = info.max\n",
    "    return lut.astype(dtype)\n",
    "\"\"\"\n",
    "\n",
    "\"\"\"\n",
    "def convert_uin16_uint8(image, minimum=None, maximum=None, width=None):\n",
    "    if width is not None:\n",
    "        # adjust histogramm according to given width, centered around the median\n",
    "        #hist, values = np.histogram(im, bins=2**16-1)\n",
    "        #middle = hist.argmax()\n",
    "        median = np.median(image)\n",
    "        minimum = median - width / 2\n",
    "        maximum = median + width / 2 - minimum\n",
    "    else:\n",
    "        minimum = minimum or image.min()\n",
    "        maximum = maximum or image.max()\n",
    "        maximum -= minimum\n",
    "    im_brightness = image - minimum\n",
    "    im_contrast = im_brightness / maximum * 255\n",
    "    im_contrast[im_contrast < 0] = 0\n",
    "    im_contrast[im_contrast > 255] = 255\n",
    "    return im_contrast.round().astype('uint8')\n",
    "\"\"\"\n",
    "\n"
   ]
  }
 ],
 "metadata": {
  "kernelspec": {
   "display_name": "Python 3",
   "language": "python",
   "name": "python3"
  },
  "language_info": {
   "codemirror_mode": {
    "name": "ipython",
    "version": 3
   },
   "file_extension": ".py",
   "mimetype": "text/x-python",
   "name": "python",
   "nbconvert_exporter": "python",
   "pygments_lexer": "ipython3",
   "version": "3.7.3"
  },
  "widgets": {
   "application/vnd.jupyter.widget-state+json": {
    "state": {
     "00dd261d32a64b97964b5df830ab92bf": {
      "model_module": "@jupyter-widgets/output",
      "model_module_version": "1.0.0",
      "model_name": "OutputModel",
      "state": {
       "layout": "IPY_MODEL_415a7a9cc1b94d7287cd73abc2920a48",
       "outputs": [
        {
         "name": "stdout",
         "output_type": "stream",
         "text": "/nfs/home/tobiasj/data/Shenlong/2019-10-11 - moving_beads_SSLB/images/B00-040ms-2894.tif\n"
        }
       ]
      }
     },
     "0bb885fd89d849029f202d354222843d": {
      "model_module": "@jupyter-widgets/base",
      "model_module_version": "1.2.0",
      "model_name": "LayoutModel",
      "state": {}
     },
     "0bc0da943de047eab0e23fa5e2039e70": {
      "model_module": "@jupyter-widgets/base",
      "model_module_version": "1.2.0",
      "model_name": "LayoutModel",
      "state": {}
     },
     "0cd05d858fdb4f38afdb5356ad9d1ebf": {
      "model_module": "@jupyter-widgets/output",
      "model_module_version": "1.0.0",
      "model_name": "OutputModel",
      "state": {
       "layout": "IPY_MODEL_c7e1c32ee5df44689c2365d420f41362",
       "outputs": [
        {
         "name": "stdout",
         "output_type": "stream",
         "text": "/nfs/home/tobiasj/data/Shenlong/2019-10-11 - moving_beads_SSLB/images/B01-032ms-3172.tif\n"
        }
       ]
      }
     },
     "109c3f0b223c497585ab40d26d6c2228": {
      "model_module": "@jupyter-widgets/base",
      "model_module_version": "1.2.0",
      "model_name": "LayoutModel",
      "state": {}
     },
     "13123eda4d1446cea3f25bf211cb048b": {
      "model_module": "@jupyter-widgets/base",
      "model_module_version": "1.2.0",
      "model_name": "LayoutModel",
      "state": {}
     },
     "14ed7ac5f73c4b61a97dcb59f66d32b7": {
      "model_module": "jupyter-matplotlib",
      "model_module_version": "^0.4.2",
      "model_name": "MPLCanvasModel",
      "state": {
       "layout": "IPY_MODEL_d5d237dd3eaf465ea640acde26f54117",
       "toolbar": "IPY_MODEL_74e76aa797d447c79d8dabc425aa81ad",
       "toolbar_position": "left"
      }
     },
     "23677e1d228f42319381ca7a978db83c": {
      "model_module": "jupyter-matplotlib",
      "model_module_version": "^0.4.2",
      "model_name": "ToolbarModel",
      "state": {
       "layout": "IPY_MODEL_caaf514e66644791a68471172de00baa",
       "toolitems": [
        [
         "Home",
         "Reset original view",
         "home",
         "home"
        ],
        [
         "Back",
         "Back to previous view",
         "arrow-left",
         "back"
        ],
        [
         "Forward",
         "Forward to next view",
         "arrow-right",
         "forward"
        ],
        [
         "Pan",
         "Pan axes with left mouse, zoom with right",
         "arrows",
         "pan"
        ],
        [
         "Zoom",
         "Zoom to rectangle",
         "square-o",
         "zoom"
        ],
        [
         "Download",
         "Download plot",
         "floppy-o",
         "save_figure"
        ]
       ]
      }
     },
     "2430aeb38af940398aaebde59a7876a8": {
      "model_module": "@jupyter-widgets/base",
      "model_module_version": "1.2.0",
      "model_name": "LayoutModel",
      "state": {}
     },
     "377c4436dac74299b5d7ced9def8b83e": {
      "model_module": "@jupyter-widgets/controls",
      "model_module_version": "1.5.0",
      "model_name": "SliderStyleModel",
      "state": {
       "description_width": ""
      }
     },
     "3bcd5fabb8a240f687274efff22782d6": {
      "model_module": "@jupyter-widgets/controls",
      "model_module_version": "1.5.0",
      "model_name": "VBoxModel",
      "state": {
       "_dom_classes": [
        "widget-interact"
       ],
       "children": [
        "IPY_MODEL_d07a686b1c524ed9a14d9f170e90f60d",
        "IPY_MODEL_0cd05d858fdb4f38afdb5356ad9d1ebf"
       ],
       "layout": "IPY_MODEL_69d33101547941cab9c4d87b0c282cd3"
      }
     },
     "3e6dc1cb9e854a90824e661c1c2b6790": {
      "model_module": "jupyter-matplotlib",
      "model_module_version": "^0.4.2",
      "model_name": "MPLCanvasModel",
      "state": {
       "layout": "IPY_MODEL_4b99ddfedf6b47eda449e6a66d9fdff1",
       "toolbar": "IPY_MODEL_4c1a65d56a3c4d62ace6f2dd6876eb87",
       "toolbar_position": "left"
      }
     },
     "415a7a9cc1b94d7287cd73abc2920a48": {
      "model_module": "@jupyter-widgets/base",
      "model_module_version": "1.2.0",
      "model_name": "LayoutModel",
      "state": {}
     },
     "4324c3b84a5c4715886f257e76dd0098": {
      "model_module": "@jupyter-widgets/base",
      "model_module_version": "1.2.0",
      "model_name": "LayoutModel",
      "state": {}
     },
     "47aea4a2820f45b2b187bdd5ee2b76df": {
      "model_module": "@jupyter-widgets/controls",
      "model_module_version": "1.5.0",
      "model_name": "SliderStyleModel",
      "state": {
       "description_width": ""
      }
     },
     "4b99ddfedf6b47eda449e6a66d9fdff1": {
      "model_module": "@jupyter-widgets/base",
      "model_module_version": "1.2.0",
      "model_name": "LayoutModel",
      "state": {}
     },
     "4c1a65d56a3c4d62ace6f2dd6876eb87": {
      "model_module": "jupyter-matplotlib",
      "model_module_version": "^0.4.2",
      "model_name": "ToolbarModel",
      "state": {
       "layout": "IPY_MODEL_d6024cf9ae844f1e8a8f05d1f93c908c",
       "toolitems": [
        [
         "Home",
         "Reset original view",
         "home",
         "home"
        ],
        [
         "Back",
         "Back to previous view",
         "arrow-left",
         "back"
        ],
        [
         "Forward",
         "Forward to next view",
         "arrow-right",
         "forward"
        ],
        [
         "Pan",
         "Pan axes with left mouse, zoom with right",
         "arrows",
         "pan"
        ],
        [
         "Zoom",
         "Zoom to rectangle",
         "square-o",
         "zoom"
        ],
        [
         "Download",
         "Download plot",
         "floppy-o",
         "save_figure"
        ]
       ]
      }
     },
     "4daf05e0b0b440ea929f276990c97472": {
      "model_module": "@jupyter-widgets/output",
      "model_module_version": "1.0.0",
      "model_name": "OutputModel",
      "state": {
       "layout": "IPY_MODEL_9739941650f748038a7f0786ac3b7add",
       "outputs": [
        {
         "name": "stdout",
         "output_type": "stream",
         "text": "/nfs/home/tobiasj/data/Shenlong/2019-10-11 - moving_beads_SSLB/images/B01-066ms-3305.tif\n"
        }
       ]
      }
     },
     "4f5f29cb984e42ee8119cd610ddc64d4": {
      "model_module": "@jupyter-widgets/controls",
      "model_module_version": "1.5.0",
      "model_name": "VBoxModel",
      "state": {
       "_dom_classes": [
        "widget-interact"
       ],
       "children": [
        "IPY_MODEL_f0507deff23444999766090be0289af1",
        "IPY_MODEL_00dd261d32a64b97964b5df830ab92bf"
       ],
       "layout": "IPY_MODEL_c14791b1541144859ba03ac46cecc3bc"
      }
     },
     "54efa33a84884fc992fb9f1282b0c9ab": {
      "model_module": "jupyter-matplotlib",
      "model_module_version": "^0.4.2",
      "model_name": "MPLCanvasModel",
      "state": {
       "layout": "IPY_MODEL_92226fbb075f4d9db82d26b2b227030c",
       "toolbar": "IPY_MODEL_e202373cec634fb29256f934051e1cf3",
       "toolbar_position": "left"
      }
     },
     "65f92b082c1c49119bcc23a4172662ce": {
      "model_module": "@jupyter-widgets/controls",
      "model_module_version": "1.5.0",
      "model_name": "VBoxModel",
      "state": {
       "_dom_classes": [
        "widget-interact"
       ],
       "children": [
        "IPY_MODEL_b3c13b8f212747ab851ec753ca284843",
        "IPY_MODEL_c628a733ab6b4703a9a47933efc86d8a"
       ],
       "layout": "IPY_MODEL_7ed64ad83cb84f7eb260dfa539cd49fa"
      }
     },
     "69d33101547941cab9c4d87b0c282cd3": {
      "model_module": "@jupyter-widgets/base",
      "model_module_version": "1.2.0",
      "model_name": "LayoutModel",
      "state": {}
     },
     "71ad87fc231c45c683c0a09d8c30c3c3": {
      "model_module": "@jupyter-widgets/base",
      "model_module_version": "1.2.0",
      "model_name": "LayoutModel",
      "state": {}
     },
     "7368c605f988476ea53818f27c7fefae": {
      "model_module": "@jupyter-widgets/controls",
      "model_module_version": "1.5.0",
      "model_name": "SliderStyleModel",
      "state": {
       "description_width": ""
      }
     },
     "74e76aa797d447c79d8dabc425aa81ad": {
      "model_module": "jupyter-matplotlib",
      "model_module_version": "^0.4.2",
      "model_name": "ToolbarModel",
      "state": {
       "layout": "IPY_MODEL_0bc0da943de047eab0e23fa5e2039e70",
       "toolitems": [
        [
         "Home",
         "Reset original view",
         "home",
         "home"
        ],
        [
         "Back",
         "Back to previous view",
         "arrow-left",
         "back"
        ],
        [
         "Forward",
         "Forward to next view",
         "arrow-right",
         "forward"
        ],
        [
         "Pan",
         "Pan axes with left mouse, zoom with right",
         "arrows",
         "pan"
        ],
        [
         "Zoom",
         "Zoom to rectangle",
         "square-o",
         "zoom"
        ],
        [
         "Download",
         "Download plot",
         "floppy-o",
         "save_figure"
        ]
       ]
      }
     },
     "79dd9221ad2b4b289f023723fb0f9482": {
      "model_module": "@jupyter-widgets/base",
      "model_module_version": "1.2.0",
      "model_name": "LayoutModel",
      "state": {}
     },
     "7b821072fd214a7387d949eafecdef42": {
      "model_module": "jupyter-matplotlib",
      "model_module_version": "^0.4.2",
      "model_name": "MPLCanvasModel",
      "state": {
       "layout": "IPY_MODEL_0bb885fd89d849029f202d354222843d",
       "toolbar": "IPY_MODEL_e80b3e9c8e464d72aa63242d79d0b481",
       "toolbar_position": "left"
      }
     },
     "7ed64ad83cb84f7eb260dfa539cd49fa": {
      "model_module": "@jupyter-widgets/base",
      "model_module_version": "1.2.0",
      "model_name": "LayoutModel",
      "state": {}
     },
     "92226fbb075f4d9db82d26b2b227030c": {
      "model_module": "@jupyter-widgets/base",
      "model_module_version": "1.2.0",
      "model_name": "LayoutModel",
      "state": {}
     },
     "9739941650f748038a7f0786ac3b7add": {
      "model_module": "@jupyter-widgets/base",
      "model_module_version": "1.2.0",
      "model_name": "LayoutModel",
      "state": {}
     },
     "9b51cfac46af4e87981ac78dc8b95032": {
      "model_module": "@jupyter-widgets/controls",
      "model_module_version": "1.5.0",
      "model_name": "IntSliderModel",
      "state": {
       "description": "Image:",
       "layout": "IPY_MODEL_4324c3b84a5c4715886f257e76dd0098",
       "max": 1255,
       "style": "IPY_MODEL_7368c605f988476ea53818f27c7fefae",
       "value": 435
      }
     },
     "9c4d71855c7f43c5964ce0beba7b5e84": {
      "model_module": "@jupyter-widgets/base",
      "model_module_version": "1.2.0",
      "model_name": "LayoutModel",
      "state": {}
     },
     "9f9e215bbc394117958197401e6c7c2a": {
      "model_module": "@jupyter-widgets/output",
      "model_module_version": "1.0.0",
      "model_name": "OutputModel",
      "state": {
       "layout": "IPY_MODEL_109c3f0b223c497585ab40d26d6c2228",
       "outputs": [
        {
         "name": "stdout",
         "output_type": "stream",
         "text": "/nfs/home/tobiasj/data/Shenlong/2019-10-11 - moving_beads_SSLB/images/B01-067ms-4123.tif\n"
        }
       ]
      }
     },
     "b1f814bc81124f13ba3045c4c465f467": {
      "model_module": "@jupyter-widgets/base",
      "model_module_version": "1.2.0",
      "model_name": "LayoutModel",
      "state": {}
     },
     "b2d8e20bef8b49128aa962c99dae44ca": {
      "model_module": "jupyter-matplotlib",
      "model_module_version": "^0.4.2",
      "model_name": "MPLCanvasModel",
      "state": {
       "layout": "IPY_MODEL_2430aeb38af940398aaebde59a7876a8",
       "toolbar": "IPY_MODEL_23677e1d228f42319381ca7a978db83c",
       "toolbar_position": "left"
      }
     },
     "b3c13b8f212747ab851ec753ca284843": {
      "model_module": "@jupyter-widgets/controls",
      "model_module_version": "1.5.0",
      "model_name": "IntSliderModel",
      "state": {
       "description": "Image:",
       "layout": "IPY_MODEL_13123eda4d1446cea3f25bf211cb048b",
       "max": 1255,
       "style": "IPY_MODEL_ed1bedd4df804ee6b751612bc79f66a8",
       "value": 347
      }
     },
     "c14791b1541144859ba03ac46cecc3bc": {
      "model_module": "@jupyter-widgets/base",
      "model_module_version": "1.2.0",
      "model_name": "LayoutModel",
      "state": {}
     },
     "c628a733ab6b4703a9a47933efc86d8a": {
      "model_module": "@jupyter-widgets/output",
      "model_module_version": "1.0.0",
      "model_name": "OutputModel",
      "state": {
       "layout": "IPY_MODEL_eb8ad4a7f6254c77ac0b9a90b61e1201",
       "outputs": [
        {
         "name": "stdout",
         "output_type": "stream",
         "text": "/nfs/home/tobiasj/data/Shenlong/2019-10-11 - moving_beads_SSLB/images/B01-066ms-3080.tif\n"
        }
       ]
      }
     },
     "c7e1c32ee5df44689c2365d420f41362": {
      "model_module": "@jupyter-widgets/base",
      "model_module_version": "1.2.0",
      "model_name": "LayoutModel",
      "state": {}
     },
     "c8c5b1ffff06498da38aaf40803e6e1f": {
      "model_module": "@jupyter-widgets/controls",
      "model_module_version": "1.5.0",
      "model_name": "IntSliderModel",
      "state": {
       "description": "Image:",
       "layout": "IPY_MODEL_fdec33e249af4eb1b2057737abeaad53",
       "max": 1255,
       "style": "IPY_MODEL_377c4436dac74299b5d7ced9def8b83e",
       "value": 1049
      }
     },
     "caaf514e66644791a68471172de00baa": {
      "model_module": "@jupyter-widgets/base",
      "model_module_version": "1.2.0",
      "model_name": "LayoutModel",
      "state": {}
     },
     "d07a686b1c524ed9a14d9f170e90f60d": {
      "model_module": "@jupyter-widgets/controls",
      "model_module_version": "1.5.0",
      "model_name": "IntSliderModel",
      "state": {
       "description": "Image:",
       "layout": "IPY_MODEL_b1f814bc81124f13ba3045c4c465f467",
       "max": 1255,
       "style": "IPY_MODEL_47aea4a2820f45b2b187bdd5ee2b76df"
      }
     },
     "d3efc2e5cac54327b0481a08126e7ce1": {
      "model_module": "@jupyter-widgets/controls",
      "model_module_version": "1.5.0",
      "model_name": "SliderStyleModel",
      "state": {
       "description_width": ""
      }
     },
     "d5d237dd3eaf465ea640acde26f54117": {
      "model_module": "@jupyter-widgets/base",
      "model_module_version": "1.2.0",
      "model_name": "LayoutModel",
      "state": {}
     },
     "d6024cf9ae844f1e8a8f05d1f93c908c": {
      "model_module": "@jupyter-widgets/base",
      "model_module_version": "1.2.0",
      "model_name": "LayoutModel",
      "state": {}
     },
     "dcab225ae79b451b840c468f0a1345e0": {
      "model_module": "@jupyter-widgets/base",
      "model_module_version": "1.2.0",
      "model_name": "LayoutModel",
      "state": {}
     },
     "e202373cec634fb29256f934051e1cf3": {
      "model_module": "jupyter-matplotlib",
      "model_module_version": "^0.4.2",
      "model_name": "ToolbarModel",
      "state": {
       "layout": "IPY_MODEL_71ad87fc231c45c683c0a09d8c30c3c3",
       "toolitems": [
        [
         "Home",
         "Reset original view",
         "home",
         "home"
        ],
        [
         "Back",
         "Back to previous view",
         "arrow-left",
         "back"
        ],
        [
         "Forward",
         "Forward to next view",
         "arrow-right",
         "forward"
        ],
        [
         "Pan",
         "Pan axes with left mouse, zoom with right",
         "arrows",
         "pan"
        ],
        [
         "Zoom",
         "Zoom to rectangle",
         "square-o",
         "zoom"
        ],
        [
         "Download",
         "Download plot",
         "floppy-o",
         "save_figure"
        ]
       ]
      }
     },
     "e80b3e9c8e464d72aa63242d79d0b481": {
      "model_module": "jupyter-matplotlib",
      "model_module_version": "^0.4.2",
      "model_name": "ToolbarModel",
      "state": {
       "layout": "IPY_MODEL_9c4d71855c7f43c5964ce0beba7b5e84",
       "toolitems": [
        [
         "Home",
         "Reset original view",
         "home",
         "home"
        ],
        [
         "Back",
         "Back to previous view",
         "arrow-left",
         "back"
        ],
        [
         "Forward",
         "Forward to next view",
         "arrow-right",
         "forward"
        ],
        [
         "Pan",
         "Pan axes with left mouse, zoom with right",
         "arrows",
         "pan"
        ],
        [
         "Zoom",
         "Zoom to rectangle",
         "square-o",
         "zoom"
        ],
        [
         "Download",
         "Download plot",
         "floppy-o",
         "save_figure"
        ]
       ]
      }
     },
     "eb8ad4a7f6254c77ac0b9a90b61e1201": {
      "model_module": "@jupyter-widgets/base",
      "model_module_version": "1.2.0",
      "model_name": "LayoutModel",
      "state": {}
     },
     "ed1bedd4df804ee6b751612bc79f66a8": {
      "model_module": "@jupyter-widgets/controls",
      "model_module_version": "1.5.0",
      "model_name": "SliderStyleModel",
      "state": {
       "description_width": ""
      }
     },
     "ed1ca38e82784d1699140a6828c8c7f9": {
      "model_module": "@jupyter-widgets/controls",
      "model_module_version": "1.5.0",
      "model_name": "VBoxModel",
      "state": {
       "_dom_classes": [
        "widget-interact"
       ],
       "children": [
        "IPY_MODEL_c8c5b1ffff06498da38aaf40803e6e1f",
        "IPY_MODEL_9f9e215bbc394117958197401e6c7c2a"
       ],
       "layout": "IPY_MODEL_79dd9221ad2b4b289f023723fb0f9482"
      }
     },
     "ee99538d4371402baae4c1bd09fb602a": {
      "model_module": "@jupyter-widgets/base",
      "model_module_version": "1.2.0",
      "model_name": "LayoutModel",
      "state": {}
     },
     "f0507deff23444999766090be0289af1": {
      "model_module": "@jupyter-widgets/controls",
      "model_module_version": "1.5.0",
      "model_name": "IntSliderModel",
      "state": {
       "description": "Image:",
       "layout": "IPY_MODEL_ee99538d4371402baae4c1bd09fb602a",
       "max": 2284,
       "style": "IPY_MODEL_d3efc2e5cac54327b0481a08126e7ce1"
      }
     },
     "fc9c0ecbd8dc4e768af7ba429c485948": {
      "model_module": "@jupyter-widgets/controls",
      "model_module_version": "1.5.0",
      "model_name": "VBoxModel",
      "state": {
       "_dom_classes": [
        "widget-interact"
       ],
       "children": [
        "IPY_MODEL_9b51cfac46af4e87981ac78dc8b95032",
        "IPY_MODEL_4daf05e0b0b440ea929f276990c97472"
       ],
       "layout": "IPY_MODEL_dcab225ae79b451b840c468f0a1345e0"
      }
     },
     "fdec33e249af4eb1b2057737abeaad53": {
      "model_module": "@jupyter-widgets/base",
      "model_module_version": "1.2.0",
      "model_name": "LayoutModel",
      "state": {}
     }
    },
    "version_major": 2,
    "version_minor": 0
   }
  }
 },
 "nbformat": 4,
 "nbformat_minor": 4
}
