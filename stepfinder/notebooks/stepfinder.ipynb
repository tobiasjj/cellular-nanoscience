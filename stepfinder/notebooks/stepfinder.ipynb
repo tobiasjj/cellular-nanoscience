{
 "cells": [
  {
   "cell_type": "markdown",
   "metadata": {},
   "source": [
    "## Import stepfinder software"
   ]
  },
  {
   "cell_type": "code",
   "execution_count": 1,
   "metadata": {},
   "outputs": [
    {
     "data": {
      "text/html": [
       "<style>.container { width:90% !important; }</style>"
      ],
      "text/plain": [
       "<IPython.core.display.HTML object>"
      ]
     },
     "metadata": {},
     "output_type": "display_data"
    }
   ],
   "source": [
    "import matplotlib\n",
    "matplotlib.use('module://ipympl.backend_nbagg')\n",
    "\n",
    "import sys\n",
    "sys.path.append('..')\n",
    "import stepfinder as sf\n",
    "\n",
    "# import necessary modules and functions \n",
    "from matplotlib import pyplot as plt\n",
    "\n",
    "from IPython.core.display import display, HTML\n",
    "display(HTML(\"<style>.container { width:90% !important; }</style>\"))"
   ]
  },
  {
   "cell_type": "markdown",
   "metadata": {},
   "source": [
    "# Advanced step detection for SNR <= 1.0"
   ]
  },
  {
   "cell_type": "code",
   "execution_count": 2,
   "metadata": {},
   "outputs": [],
   "source": [
    "### Either, simulate step data\n",
    "duration = 1.0  # s\n",
    "resolution = 40000.0  # Hz\n",
    "dwell_time = 0.050  # s\n",
    "SNR = 0.5\n",
    "\n",
    "simulated_steps = sf.simulate_steps(duration=duration, resolution=resolution,\n",
    "                                    dwell_time=dwell_time, SNR=SNR)\n",
    "data = simulated_steps.data + simulated_steps.noise\n",
    "\n",
    "# Set filter/step finding parameters\n",
    "filter_min_t = 0.001  # None or s\n",
    "filter_max_t = 0.020  # None or s\n",
    "expected_min_step_size = 8.0  # in values of data"
   ]
  },
  {
   "cell_type": "code",
   "execution_count": 2,
   "metadata": {},
   "outputs": [
    {
     "name": "stdout",
     "output_type": "stream",
     "text": [
      "./data.txt\n",
      "  Duration: 0.398 s\n",
      "  Datapoints: 398\n"
     ]
    }
   ],
   "source": [
    "### Or, get data\n",
    "import os\n",
    "import numpy as np\n",
    "\n",
    "### Choose the directory of the files to be analysed\n",
    "filename = os.path.join('.', 'data.txt')\n",
    "resolution = 1000  # in Hz\n",
    "\n",
    "data = np.loadtxt(filename, skiprows=1)[:,1]\n",
    "print('{}\\n  Duration: {:.3f} s\\n  Datapoints: {}'.format(filename, len(data) / resolution, len(data)))\n",
    "\n",
    "# Set filter/step finding parameters\n",
    "filter_min_t = 0.005  # None or s\n",
    "filter_max_t = 0.050  # None or s\n",
    "expected_min_step_size = 2000.0  # in values of data"
   ]
  },
  {
   "cell_type": "code",
   "execution_count": 3,
   "metadata": {},
   "outputs": [
    {
     "name": "stdout",
     "output_type": "stream",
     "text": [
      "\n",
      "Pre-processing and analysing filter windows: \n",
      "---------------------------------------------------------------- \n",
      "number  time(s) #length  aSNR    mSNR   STD  #outls  #pre #steps \n",
      "----------------------------------------------------------------\n",
      "    0   0.0050      5   5.229   5.634  1.273      5     33    16\n",
      "    1   0.0060      6   5.121   4.553  1.268      7     27    15\n",
      "    2   0.0070      7   5.229   5.088  1.286      4     24    15\n",
      "    3   0.0080      8   5.367   4.872  1.259      4     22    15\n",
      "    4   0.0090      9   5.310   5.310  1.236      2     22    12\n",
      "    5   0.0100     10   5.143   5.143  1.249      2     19    13\n",
      "    6   0.0110     11   4.695   4.217  1.246      3     16    12\n",
      "    7   0.0120     12   4.471   4.280  1.262      3     16    12\n",
      "    8   0.0130     13   4.463   4.332  1.255      3     17    12\n",
      "    9   0.0140     14   4.573   4.478  1.255      3     12     9\n",
      "   10   0.0150     15   4.731   4.685  1.244      3     12     9\n",
      "   11   0.0160     16   4.706   4.452  1.248      3     12     9\n",
      "   12   0.0170     17   4.741   4.741  1.261      2     11     9\n",
      "   13   0.0180     18   4.315   4.315  1.287      1     10     8\n",
      "   14   0.0190     19     nan     nan  1.303      0     10     8\n",
      "   15   0.0210     21     nan     nan  1.264      0     10     8\n",
      "   16   0.0220     22     nan     nan  1.250      0     11     8\n",
      "   17   0.0230     23   4.065   4.065  1.189      2     11     8\n",
      "   18   0.0250     25     nan     nan  1.199      0     10     8\n",
      "   19   0.0260     26     nan     nan  1.179      0      9     8\n",
      "   20   0.0280     28     nan     nan  1.146      0      8     6\n",
      "   21   0.0290     29     nan     nan  1.130      0      9     4\n",
      "   22   0.0310     31     nan     nan  1.108      0     10     6\n",
      "   23   0.0330     33     nan     nan  1.085      0      7     4\n",
      "   24   0.0350     35     nan     nan  1.079      0      8     4\n",
      "   25   0.0370     37     nan     nan  1.073      0      7     4\n",
      "   26   0.0390     39   4.114   4.160  1.025      3      7     4\n",
      "   27   0.0420     42   4.230   4.210  0.990      6      6     4\n",
      "   28   0.0440     44   4.238   4.243  1.014      5      6     4\n",
      "   29   0.0470     47   4.308   4.362  1.008      7      6     4\n",
      "   30   0.0500     50   4.360   4.403  1.017      8      4     2\n",
      "-----------------------------------------------------------------\n",
      "Autoselection of `filter_time` was enabled.\n",
      "  Please, verify your results and, if necessary, adjust this parameter accordingly.\n",
      "Selected a `filter_time` (window) of 34.0 ms (l: 34) for the calculation of the step_mass (= step_size/noise).\n",
      "Absolute noise of the signal (steps excluded): 1922.346\n",
      "Threshold y_c relative to the noise, for step detection: 0.694\n",
      "  y_c = 2/3 * `expected_min_step_size` / noise\n",
      "Autoselection of `min_dwell_time` was enabled.\n",
      "Selected a `min_dwell_time` (`min_step_spacing`) of 0.0340 s (l: 34) for step detection.\n",
      "Total number of steps found: 8\n",
      "Number of steps deleted: 4\n",
      "New total number of steps: 4\n"
     ]
    },
    {
     "name": "stderr",
     "output_type": "stream",
     "text": [
      "../stepfinder/stepfinder.py:1745: UserWarning: In Matplotlib 3.3 individual lines on a stem plot will be added as a LineCollection instead of individual lines. This significantly improves the performance of a stem plot. To remove this warning and switch to the new behaviour, set the \"use_line_collection\" keyword argument to True.\n",
      "  plt.stem(time[steps_pre.indices], steps_pre.step_sizes, 'c', 'c.', 'k-')\n",
      "../stepfinder/stepfinder.py:1746: UserWarning: In Matplotlib 3.3 individual lines on a stem plot will be added as a LineCollection instead of individual lines. This significantly improves the performance of a stem plot. To remove this warning and switch to the new behaviour, set the \"use_line_collection\" keyword argument to True.\n",
      "  plt.stem(time[steps.indices], steps.step_sizes, 'm', 'mo', 'k-')\n"
     ]
    },
    {
     "data": {
      "application/vnd.jupyter.widget-view+json": {
       "model_id": "c3acf9104d134918952749e22100feab",
       "version_major": 2,
       "version_minor": 0
      },
      "text/plain": [
       "Canvas(toolbar=Toolbar(toolitems=[('Home', 'Reset original view', 'home', 'home'), ('Back', 'Back to previous …"
      ]
     },
     "metadata": {},
     "output_type": "display_data"
    },
    {
     "data": {
      "application/vnd.jupyter.widget-view+json": {
       "model_id": "76e40d4a2b3b492fb08ecd9507beabbb",
       "version_major": 2,
       "version_minor": 0
      },
      "text/plain": [
       "Canvas(toolbar=Toolbar(toolitems=[('Home', 'Reset original view', 'home', 'home'), ('Back', 'Back to previous …"
      ]
     },
     "metadata": {},
     "output_type": "display_data"
    },
    {
     "data": {
      "application/vnd.jupyter.widget-view+json": {
       "model_id": "dd519fded7954c7f852c3c1e860f35e0",
       "version_major": 2,
       "version_minor": 0
      },
      "text/plain": [
       "Canvas(toolbar=Toolbar(toolitems=[('Home', 'Reset original view', 'home', 'home'), ('Back', 'Back to previous …"
      ]
     },
     "metadata": {},
     "output_type": "display_data"
    }
   ],
   "source": [
    "### Filter the data, find the steps and plot the result\n",
    "## Settings for filter\n",
    "filter_time =  None  # None or s\n",
    "filter_number = 40  # None or number\n",
    "edginess = 1  # int\n",
    "## Settings for step finder in fbnl filtered data\n",
    "expected_min_dwell_t = None  # None or s\n",
    "step_size_threshold = None  # None (equal to 'adapt'), 'constant', or in values of data\n",
    "\n",
    "step_finder_result, fig1 \\\n",
    "    = sf.filter_find_analyse_steps(data, resolution, filter_time, filter_min_t, filter_max_t,\n",
    "                                   filter_number, edginess,\n",
    "                                   expected_min_step_size, expected_min_dwell_t,\n",
    "                                   step_size_threshold, cap_data=True,\n",
    "                                   verbose=True, plot=True)\n",
    "\n",
    "### Plot data and step finder result\n",
    "fig2, fig3 = sf.plot_result(step_finder_result)#, simulated_steps)\n",
    "\n",
    "plt.show(fig1)\n",
    "plt.show(fig2)\n",
    "plt.show(fig3)"
   ]
  },
  {
   "cell_type": "code",
   "execution_count": null,
   "metadata": {},
   "outputs": [],
   "source": []
  }
 ],
 "metadata": {
  "kernelspec": {
   "display_name": "Python 3",
   "language": "python",
   "name": "python3"
  },
  "language_info": {
   "codemirror_mode": {
    "name": "ipython",
    "version": 3
   },
   "file_extension": ".py",
   "mimetype": "text/x-python",
   "name": "python",
   "nbconvert_exporter": "python",
   "pygments_lexer": "ipython3",
   "version": "3.7.3"
  },
  "widgets": {
   "application/vnd.jupyter.widget-state+json": {
    "state": {},
    "version_major": 2,
    "version_minor": 0
   }
  }
 },
 "nbformat": 4,
 "nbformat_minor": 4
}
