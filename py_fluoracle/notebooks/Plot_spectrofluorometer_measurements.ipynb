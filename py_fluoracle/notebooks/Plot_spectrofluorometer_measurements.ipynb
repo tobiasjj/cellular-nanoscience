{
 "cells": [
  {
   "cell_type": "code",
   "execution_count": 1,
   "metadata": {
    "collapsed": false
   },
   "outputs": [],
   "source": [
    "#%matplotlib widget  # equivalent to:\n",
    "import matplotlib\n",
    "import ipympl  # this automatically does a \"matplotlib.use('module://ipympl.backend_nbagg')\"\n",
    "from matplotlib import pyplot as plt\n",
    "plt.ion()\n",
    "from IPython.display import Image\n",
    "\n",
    "import os\n",
    "import sys\n",
    "sys.path.append('/srv/ipython-repo/tj_scripts/cn_plot_style')\n",
    "import cn_plot_style as cnps\n",
    "\n",
    "sys.path.append('/srv/ipython-repo/tj_scripts/py_fluoracle')\n",
    "import py_fluoracle as pyflu\n",
    "\n",
    "\n",
    "def plot_spectrofluorometer_data(ax, dataset):\n",
    "        title = dataset['name']\n",
    "        label = dataset['meta']['Labels']\n",
    "        _x = dataset['data'][:,0]\n",
    "        _y = dataset['data'][:,1]\n",
    "        x = _x[_y != 0]\n",
    "        y = _y[_y != 0]\n",
    "        x_label = dataset['meta']['Xaxis']\n",
    "        y_label = dataset['meta']['Yaxis']\n",
    "\n",
    "        ln = ax.plot(x, y, label=label)\n",
    "\n",
    "        #cnps.legend(*lns)\n",
    "\n",
    "        ax.set_title(title)\n",
    "        ax.set_xlabel(x_label)\n",
    "        ax.set_ylabel(y_label)\n",
    "        \n",
    "        return ln"
   ]
  },
  {
   "cell_type": "code",
   "execution_count": 3,
   "metadata": {
    "collapsed": false
   },
   "outputs": [],
   "source": [
    "# read in all datasets in a folder\n",
    "path = '/nfs/home/tobiasj/data/Spectrofluorometer'\n",
    "datasets = []\n",
    "\n",
    "for root, dirs, files in os.walk(path):\n",
    "    if 'data' in root:\n",
    "        files.sort()\n",
    "        for file in files:\n",
    "            if file.endswith('.csv'):\n",
    "                filepath = os.path.join(root, file)\n",
    "                dataset = pyflu.load_data(filepath)\n",
    "                #time = data[:,0] / meta['Step']\n",
    "                #counts = data[:,1]\n",
    "                if dataset is not None:\n",
    "                    datasets.append(dataset)\n",
    "\n",
    "#datasets[0]"
   ]
  },
  {
   "cell_type": "code",
   "execution_count": 5,
   "metadata": {
    "collapsed": false
   },
   "outputs": [
    {
     "data": {
      "application/vnd.jupyter.widget-view+json": {
       "model_id": "2004f705a4684a819568cd2cef24489e",
       "version_major": 2,
       "version_minor": 0
      },
      "text/plain": [
       "FigureCanvasNbAgg()"
      ]
     },
     "metadata": {},
     "output_type": "display_data"
    },
    {
     "name": "stdout",
     "output_type": "stream",
     "text": [
      "Creating \"../../../data/Spectrofluorometer/2018-07-14 - binding Rad52 diff conc/results/Sample09 - 0min+10nMRad52_like01_02_+2nM1st+1.2nM2nd_anneal_Kinetic Sample1 Scan1.png\"\"\n",
      "Creating \"../../../data/Spectrofluorometer/2018-07-14 - binding Rad52 diff conc/results/Sample09 - 0min+10nMRad52_like01_02_+2nM1st+1.2nM2nd_anneal_Ref Kinetic Sample1 Scan1.png\"\"\n",
      "Creating \"../../../data/Spectrofluorometer/2018-07-14 - binding Rad52 diff conc/results/Sample09 - 0min+10nMRad52_like01_02_+2nM1st+1.2nM2nd_anneal_Trans Kinetic Sample1 Scan1.png\"\"\n",
      "Creating \"../../../data/Spectrofluorometer/2018-07-14 - binding Rad52 diff conc/results/Sample09 - 0min+10nMRad52_like01_02_+2nM1st+1.2nM2nd_anneal_UncorrectedEm Kinetic Sample1 Scan1.png\"\"\n",
      "Creating \"../../../data/Spectrofluorometer/2018-07-14 - binding Rad52 diff conc/results/Sample08_05d - 0min+10nMRad52+2nM1st+1.2nM2nd_anneal_Kinetic Sample1 Scan1.png\"\"\n",
      "Creating \"../../../data/Spectrofluorometer/2018-07-14 - binding Rad52 diff conc/results/Sample08_05d - 0min+10nMRad52+2nM1st+1.2nM2nd_anneal_Ref Kinetic Sample1 Scan1.png\"\"\n",
      "Creating \"../../../data/Spectrofluorometer/2018-07-14 - binding Rad52 diff conc/results/Sample08_05d - 0min+10nMRad52+2nM1st+1.2nM2nd_anneal_Trans Kinetic Sample1 Scan1.png\"\"\n",
      "Creating \"../../../data/Spectrofluorometer/2018-07-14 - binding Rad52 diff conc/results/Sample08_05d - 0min+10nMRad52+2nM1st+1.2nM2nd_anneal_UncorrectedEm Kinetic Sample1 Scan1.png\"\"\n",
      "Creating \"../../../data/Spectrofluorometer/2018-07-14 - binding Rad52 diff conc/results/Sample07 - 0min+10nMRad52+2nM1st+1.2nM2nd_anneal_Kinetic Sample1 Scan1.png\"\"\n",
      "Creating \"../../../data/Spectrofluorometer/2018-07-14 - binding Rad52 diff conc/results/Sample07 - 0min+10nMRad52+2nM1st+1.2nM2nd_anneal_Ref Kinetic Sample1 Scan1.png\"\"\n",
      "Creating \"../../../data/Spectrofluorometer/2018-07-14 - binding Rad52 diff conc/results/Sample07 - 0min+10nMRad52+2nM1st+1.2nM2nd_anneal_Trans Kinetic Sample1 Scan1.png\"\"\n",
      "Creating \"../../../data/Spectrofluorometer/2018-07-14 - binding Rad52 diff conc/results/Sample07 - 0min+10nMRad52+2nM1st+1.2nM2nd_anneal_UncorrectedEm Kinetic Sample1 Scan1.png\"\"\n",
      "Creating \"../../../data/Spectrofluorometer/2018-07-14 - binding Rad52 diff conc/results/Sample14 - 0min+10nMRad52_b+2nM1st+1.2nM2nd_anneal_Kinetic Sample1 Scan1.png\"\"\n",
      "Creating \"../../../data/Spectrofluorometer/2018-07-14 - binding Rad52 diff conc/results/Sample14 - 0min+10nMRad52_b+2nM1st+1.2nM2nd_anneal_Ref Kinetic Sample1 Scan1.png\"\"\n",
      "Creating \"../../../data/Spectrofluorometer/2018-07-14 - binding Rad52 diff conc/results/Sample14 - 0min+10nMRad52_b+2nM1st+1.2nM2nd_anneal_Trans Kinetic Sample1 Scan1.png\"\"\n",
      "Creating \"../../../data/Spectrofluorometer/2018-07-14 - binding Rad52 diff conc/results/Sample14 - 0min+10nMRad52_b+2nM1st+1.2nM2nd_anneal_UncorrectedEm Kinetic Sample1 Scan1.png\"\"\n",
      "Creating \"../../../data/Spectrofluorometer/2018-07-14 - binding Rad52 diff conc/results/Sample12 - 2nM1st_baseline+1.2nM2nd_anneal_Kinetic Sample1 Scan1.png\"\"\n",
      "Creating \"../../../data/Spectrofluorometer/2018-07-14 - binding Rad52 diff conc/results/Sample12 - 2nM1st_baseline+1.2nM2nd_anneal_Ref Kinetic Sample1 Scan1.png\"\"\n",
      "Creating \"../../../data/Spectrofluorometer/2018-07-14 - binding Rad52 diff conc/results/Sample12 - 2nM1st_baseline+1.2nM2nd_anneal_Trans Kinetic Sample1 Scan1.png\"\"\n",
      "Creating \"../../../data/Spectrofluorometer/2018-07-14 - binding Rad52 diff conc/results/Sample12 - 2nM1st_baseline+1.2nM2nd_anneal_UncorrectedEm Kinetic Sample1 Scan1.png\"\"\n",
      "Creating \"../../../data/Spectrofluorometer/2018-07-14 - binding Rad52 diff conc/results/Sample06 - 0min+10nMRad52+2nM1st_Kinetic Sample1 Scan1.png\"\"\n",
      "Creating \"../../../data/Spectrofluorometer/2018-07-14 - binding Rad52 diff conc/results/Sample06 - 0min+10nMRad52+2nM1st_Ref Kinetic Sample1 Scan1.png\"\"\n",
      "Creating \"../../../data/Spectrofluorometer/2018-07-14 - binding Rad52 diff conc/results/Sample06 - 0min+10nMRad52+2nM1st_Trans Kinetic Sample1 Scan1.png\"\"\n",
      "Creating \"../../../data/Spectrofluorometer/2018-07-14 - binding Rad52 diff conc/results/Sample06 - 0min+10nMRad52+2nM1st_UncorrectedEm Kinetic Sample1 Scan1.png\"\"\n",
      "Creating \"../../../data/Spectrofluorometer/2018-07-14 - binding Rad52 diff conc/results/Sample10 - 0min+10nMRad52_like03_04_+2nM1st+1.2nM2nd_anneal_Kinetic Sample1 Scan1.png\"\"\n",
      "Creating \"../../../data/Spectrofluorometer/2018-07-14 - binding Rad52 diff conc/results/Sample10 - 0min+10nMRad52_like03_04_+2nM1st+1.2nM2nd_anneal_Ref Kinetic Sample1 Scan1.png\"\"\n",
      "Creating \"../../../data/Spectrofluorometer/2018-07-14 - binding Rad52 diff conc/results/Sample10 - 0min+10nMRad52_like03_04_+2nM1st+1.2nM2nd_anneal_Trans Kinetic Sample1 Scan1.png\"\"\n",
      "Creating \"../../../data/Spectrofluorometer/2018-07-14 - binding Rad52 diff conc/results/Sample10 - 0min+10nMRad52_like03_04_+2nM1st+1.2nM2nd_anneal_UncorrectedEm Kinetic Sample1 Scan1.png\"\"\n",
      "Creating \"../../../data/Spectrofluorometer/2018-07-14 - binding Rad52 diff conc/results/Sample11 - 0min+10nMRad52_like03_04_+2nM1st+1.2nM2nd_anneal_Kinetic Sample1 Scan1.png\"\"\n",
      "Creating \"../../../data/Spectrofluorometer/2018-07-14 - binding Rad52 diff conc/results/Sample11 - 0min+10nMRad52_like03_04_+2nM1st+1.2nM2nd_anneal_Ref Kinetic Sample1 Scan1.png\"\"\n",
      "Creating \"../../../data/Spectrofluorometer/2018-07-14 - binding Rad52 diff conc/results/Sample11 - 0min+10nMRad52_like03_04_+2nM1st+1.2nM2nd_anneal_Trans Kinetic Sample1 Scan1.png\"\"\n",
      "Creating \"../../../data/Spectrofluorometer/2018-07-14 - binding Rad52 diff conc/results/Sample11 - 0min+10nMRad52_like03_04_+2nM1st+1.2nM2nd_anneal_UncorrectedEm Kinetic Sample1 Scan1.png\"\"\n",
      "Creating \"../../../data/Spectrofluorometer/2018-07-14 - binding Rad52 diff conc/results/Sample04 - 0min+10nMRad52+2nM1st_Kinetic Sample1 Scan1.png\"\"\n",
      "Creating \"../../../data/Spectrofluorometer/2018-07-14 - binding Rad52 diff conc/results/Sample04 - 0min+10nMRad52+2nM1st_Ref Kinetic Sample1 Scan1.png\"\"\n",
      "Creating \"../../../data/Spectrofluorometer/2018-07-14 - binding Rad52 diff conc/results/Sample04 - 0min+10nMRad52+2nM1st_Trans Kinetic Sample1 Scan1.png\"\"\n",
      "Creating \"../../../data/Spectrofluorometer/2018-07-14 - binding Rad52 diff conc/results/Sample04 - 0min+10nMRad52+2nM1st_UncorrectedEm Kinetic Sample1 Scan1.png\"\"\n",
      "Creating \"../../../data/Spectrofluorometer/2018-07-14 - binding Rad52 diff conc/results/Sample05c - baseline 2nM1st_Kinetic Sample1 Scan1.png\"\"\n",
      "Creating \"../../../data/Spectrofluorometer/2018-07-14 - binding Rad52 diff conc/results/Sample05c - baseline 2nM1st_Ref Kinetic Sample1 Scan1.png\"\"\n",
      "Creating \"../../../data/Spectrofluorometer/2018-07-14 - binding Rad52 diff conc/results/Sample05c - baseline 2nM1st_Trans Kinetic Sample1 Scan1.png\"\"\n",
      "Creating \"../../../data/Spectrofluorometer/2018-07-14 - binding Rad52 diff conc/results/Sample05c - baseline 2nM1st_UncorrectedEm Kinetic Sample1 Scan1.png\"\"\n",
      "Creating \"../../../data/Spectrofluorometer/2018-07-14 - binding Rad52 diff conc/results/Sample03 - 0min+10nMRad52+2nM1st_Kinetic Sample1 Scan1.png\"\"\n",
      "Creating \"../../../data/Spectrofluorometer/2018-07-14 - binding Rad52 diff conc/results/Sample03 - 0min+10nMRad52+2nM1st_Ref Kinetic Sample1 Scan1.png\"\"\n",
      "Creating \"../../../data/Spectrofluorometer/2018-07-14 - binding Rad52 diff conc/results/Sample03 - 0min+10nMRad52+2nM1st_Trans Kinetic Sample1 Scan1.png\"\"\n",
      "Creating \"../../../data/Spectrofluorometer/2018-07-14 - binding Rad52 diff conc/results/Sample03 - 0min+10nMRad52+2nM1st_UncorrectedEm Kinetic Sample1 Scan1.png\"\"\n",
      "Creating \"../../../data/Spectrofluorometer/2018-07-14 - binding Rad52 diff conc/results/Sample13 - 2nM1st_baseline+1.2nM2nd_anneal_Kinetic Sample1 Scan1.png\"\"\n",
      "Creating \"../../../data/Spectrofluorometer/2018-07-14 - binding Rad52 diff conc/results/Sample13 - 2nM1st_baseline+1.2nM2nd_anneal_Ref Kinetic Sample1 Scan1.png\"\"\n",
      "Creating \"../../../data/Spectrofluorometer/2018-07-14 - binding Rad52 diff conc/results/Sample13 - 2nM1st_baseline+1.2nM2nd_anneal_Trans Kinetic Sample1 Scan1.png\"\"\n",
      "Creating \"../../../data/Spectrofluorometer/2018-07-14 - binding Rad52 diff conc/results/Sample13 - 2nM1st_baseline+1.2nM2nd_anneal_UncorrectedEm Kinetic Sample1 Scan1.png\"\"\n",
      "Creating \"../../../data/Spectrofluorometer/2018-07-14 - binding Rad52 diff conc/results/Sample05 - 0min+10nMRad52+2nM1st+1.2nM2nd_anneal_Kinetic Sample1 Scan1.png\"\"\n",
      "Creating \"../../../data/Spectrofluorometer/2018-07-14 - binding Rad52 diff conc/results/Sample05 - 0min+10nMRad52+2nM1st+1.2nM2nd_anneal_Ref Kinetic Sample1 Scan1.png\"\"\n",
      "Creating \"../../../data/Spectrofluorometer/2018-07-14 - binding Rad52 diff conc/results/Sample05 - 0min+10nMRad52+2nM1st+1.2nM2nd_anneal_Trans Kinetic Sample1 Scan1.png\"\"\n",
      "Creating \"../../../data/Spectrofluorometer/2018-07-14 - binding Rad52 diff conc/results/Sample05 - 0min+10nMRad52+2nM1st+1.2nM2nd_anneal_UncorrectedEm Kinetic Sample1 Scan1.png\"\"\n",
      "Creating \"../../../data/Spectrofluorometer/2018-07-14 - binding Rad52 diff conc/results/Sample05b - baseline 2nM1st_Kinetic Sample1 Scan1.png\"\"\n",
      "Creating \"../../../data/Spectrofluorometer/2018-07-14 - binding Rad52 diff conc/results/Sample05b - baseline 2nM1st_Ref Kinetic Sample1 Scan1.png\"\"\n",
      "Creating \"../../../data/Spectrofluorometer/2018-07-14 - binding Rad52 diff conc/results/Sample05b - baseline 2nM1st_Trans Kinetic Sample1 Scan1.png\"\"\n",
      "Creating \"../../../data/Spectrofluorometer/2018-07-14 - binding Rad52 diff conc/results/Sample05b - baseline 2nM1st_UncorrectedEm Kinetic Sample1 Scan1.png\"\"\n",
      "Creating \"../../../data/Spectrofluorometer/2018-06-14 - em_ex_scans - alexa488nM/results/EmScan-easycleaned-water_only.png\"\"\n",
      "Creating \"../../../data/Spectrofluorometer/2016-01-28 - Annealing test 50 nM/results/Annealing 1D and 2B (50nM) in TA + 10mM MgCl Fit Result.png\"\"\n"
     ]
    }
   ],
   "source": [
    "# Create results plot and save them\n",
    "plt.close('all')\n",
    "\n",
    "lns = []\n",
    "with cnps.cn_plot(context='paper', dark=False, usetex=False):\n",
    "    fig, ax = plt.subplots()\n",
    "    for dataset in datasets:\n",
    "\n",
    "        ax.clear()\n",
    "        ln = plot_spectrofluorometer_data(ax, dataset)\n",
    "        lns.append(ln)\n",
    "\n",
    "        #cnps.legend(*lns)\n",
    "        \n",
    "        #fig.show()\n",
    "        \n",
    "        # Save the figure\n",
    "        if dataset['dirname'].endswith('data'):\n",
    "            resultsdir = os.path.relpath(os.path.join(dataset['dirname'], '..', 'results'))\n",
    "            resultspath = os.path.join(resultsdir, ''.join((dataset['name'], '.png')))\n",
    "        else:\n",
    "            resultsdir = os.path.relpath(os.path.join(dataset['dirname'], '..', '..', 'results'))\n",
    "            prename = os.path.basename(dataset['dirname'].rstrip('/'))\n",
    "            resultspath = os.path.join(resultsdir, ''.join((prename, '_', dataset['name'], '.png')))\n",
    "        pyflu.mkdir(resultsdir)\n",
    "        \n",
    "        if not os.path.exists(resultspath):\n",
    "            print('Creating \"{}\"\"'.format(resultspath))\n",
    "            fig.savefig(resultspath)"
   ]
  },
  {
   "cell_type": "code",
   "execution_count": 6,
   "metadata": {},
   "outputs": [
    {
     "name": "stdout",
     "output_type": "stream",
     "text": [
      "Creating \"../../../data/Spectrofluorometer/2018-06-27 - annealing with Rad52/overview.pdf\"\n",
      "Creating \"../../../data/Spectrofluorometer/2018-06-16 - annealing MA oligos 10 nM Rad52/overview.pdf\"\n",
      "Creating \"../../../data/Spectrofluorometer/2018-06-16 - binding atto 636 1B-5B/overview.pdf\"\n",
      "Creating \"../../../data/Spectrofluorometer/2018-06-16 - repeating alexa_atto_aneal/overview.pdf\"\n",
      "Creating \"../../../data/Spectrofluorometer/2018-06-15 - annealing and binding with Rad52/overview.pdf\"\n",
      "Creating \"../../../data/Spectrofluorometer/2016-01-21 - Atto 488/overview.pdf\"\n",
      "Creating \"../../../data/Spectrofluorometer/2018-06-14 - annealing_1nM/overview.pdf\"\n",
      "Creating \"../../../data/Spectrofluorometer/2018-07-04 - binding and annealing test/overview.pdf\"\n",
      "Creating \"../../../data/Spectrofluorometer/2016-01-21 - Atto 633/overview.pdf\"\n",
      "Creating \"../../../data/Spectrofluorometer/2018-07-14 - binding Rad52 diff conc/overview.pdf\"\n",
      "Creating \"../../../data/Spectrofluorometer/2018-06-14 - em_ex_scans - alexa488nM/overview.pdf\"\n",
      "Creating \"../../../data/Spectrofluorometer/2016-01-28 - Annealing test 50 nM/overview.pdf\"\n",
      "Creating \"../../../data/Spectrofluorometer/2016-03-31 - 50 nM DNA + fresh Rad52/overview.pdf\"\n",
      "Creating \"../../../data/Spectrofluorometer/2018-06-14 - em_ex_scans - atto565nM/overview.pdf\"\n",
      "Creating \"../../../data/Spectrofluorometer/2018-06-14 - annealing alexa488_atto565_5nM_quick_n_dirty/overview.pdf\"\n"
     ]
    }
   ],
   "source": [
    "# Put all result png files in one overview PDF\n",
    "from reportlab.pdfgen import canvas\n",
    "from reportlab.lib.pagesizes import A4\n",
    "from reportlab.lib.units import cm\n",
    "\n",
    "path = '/nfs/home/tobiasj/data/Spectrofluorometer'\n",
    "\n",
    "\n",
    "columns = 2\n",
    "rows = 5\n",
    "\n",
    "for root, dirs, files in os.walk(path):\n",
    "    # look into the results directory\n",
    "    if root.endswith('results'):\n",
    "        # Select png files and calculate pages needed for overview pdf\n",
    "        files = [os.path.join(root, file) for file in files if file.endswith('.png')]\n",
    "        files = pyflu.humansorted_strings(files)\n",
    "        \n",
    "        pages = int(len(files) / (columns*rows)) + 1\n",
    "\n",
    "        cells = [(p, r, c) for p in range(pages) for r in range(rows) for c in range(columns)]\n",
    "\n",
    "        # Create overview pdf\n",
    "        pdfname = os.path.relpath(os.path.join(root, '..', 'overview.pdf'))\n",
    "        print('Creating \"{}\"'.format(pdfname))\n",
    "        c = canvas.Canvas(pdfname, pagesize=A4)\n",
    "        c.drawString(0, 0, root)\n",
    "        paper_width, paper_height = A4\n",
    "        width = paper_width / columns\n",
    "        height = paper_height / rows\n",
    "\n",
    "        p = 0\n",
    "        for file, cell in zip(files, cells):\n",
    "            page, row, column = cell\n",
    "            if page > p:\n",
    "                c.drawString(0, 0, root)\n",
    "                p += 1\n",
    "                c.showPage()\n",
    "            c.drawImage(file, width * column, paper_height - height - (height * row), width, height)\n",
    "\n",
    "        c.drawString(0, 0, root)\n",
    "        c.save()"
   ]
  },
  {
   "cell_type": "code",
   "execution_count": 92,
   "metadata": {},
   "outputs": [
    {
     "name": "stderr",
     "output_type": "stream",
     "text": [
      "/usr/lib/python3/dist-packages/matplotlib/__init__.py:943: MatplotlibDeprecationWarning: nbagg.transparent is deprecated and ignored. Use figure.facecolor instead.\n",
      "  mplDeprecation)\n"
     ]
    },
    {
     "data": {
      "application/vnd.jupyter.widget-view+json": {
       "model_id": "97477ebfb1884f36a9a41b1e82a43dfa",
       "version_major": 2,
       "version_minor": 0
      },
      "text/plain": [
       "FigureCanvasNbAgg()"
      ]
     },
     "metadata": {},
     "output_type": "display_data"
    }
   ],
   "source": [
    "dsubsets = [dataset\n",
    "            for dataset\n",
    "            in datasets\n",
    "            if '2018-07-04' in dataset['dirname']]\n",
    "\n",
    "dsubsets = pyflu.humansorted_datasets(dsubsets)\n",
    "\n",
    "dsets = []\n",
    "for dset in dsubsets:\n",
    "    if 'Sample18' in dset['name'] or 'Sample19' in dset['name']:\n",
    "        dsets.append(dset)\n",
    "\n",
    "# Plot individual dataset\n",
    "plt.close('all')\n",
    "lns = []\n",
    "with cnps.cn_plot(context='paper', dark=False, usetex=False) as cnp:\n",
    "    fig, ax = plt.subplots()\n",
    "\n",
    "    ax.clear()\n",
    "    for dataset in dsets:\n",
    "        data = dataset['data'][:,1]\n",
    "        Fmax = data.max()\n",
    "        #Fmax = max_fluorescence(data)\n",
    "        start, stop = None, None\n",
    "        start, stop = decay_region(data, F0=Fmax, dilution=1)\n",
    "        x = dataset['data'][:,0][start:stop]\n",
    "        y = dataset['data'][:,1][start:stop]\n",
    "        \n",
    "        # Set first datapoint to time 0 + 30 s (~ duration needed for mixing)\n",
    "        x = x - x[0] + 30\n",
    "        \n",
    "        # select the first seconds\n",
    "        #duration = 13000  # s\n",
    "        #x = x[:int(duration / 10)]\n",
    "        #y = y[:int(duration / 10)]\n",
    "        \n",
    "        # get the label for this dataset\n",
    "        label = dataset['name'].replace('_', ' ').replace('1st', '').replace('2nd', '')\n",
    "        #label = dataset['meta']['Labels']\n",
    "                \n",
    "        # get the color for this dataset\n",
    "        c = cnp.color\n",
    "\n",
    "        # Plot the data 2nd the fit\n",
    "        lns.append(ax.plot(x[::], y[::] / Fmax, '.', label=label, color=c))\n",
    "        \n",
    "        cnps.legend(*lns)\n",
    "\n",
    "        #title = 'Annealing with and without Rad52'\n",
    "        x_label = dataset['meta']['Xaxis']\n",
    "        #y_label = dataset['meta']['Yaxis']\n",
    "        y_label = 'Reactive ssDNA (%)'\n",
    "\n",
    "        #ax.set_title(title)\n",
    "        ax.set_xlabel(x_label)\n",
    "        ax.set_ylabel(y_label)\n",
    "\n",
    "    fig.show()"
   ]
  },
  {
   "cell_type": "code",
   "execution_count": null,
   "metadata": {},
   "outputs": [],
   "source": [
    "filename = '../BLABLABLUB.png'\n",
    "fig.savefig(filename)\n",
    "plt.close(fig)\n",
    "Image(filename)"
   ]
  }
 ],
 "metadata": {
  "kernelspec": {
   "display_name": "Python 3",
   "language": "python",
   "name": "python3"
  },
  "language_info": {
   "codemirror_mode": {
    "name": "ipython",
    "version": 3
   },
   "file_extension": ".py",
   "mimetype": "text/x-python",
   "name": "python",
   "nbconvert_exporter": "python",
   "pygments_lexer": "ipython3",
   "version": "3.6.6"
  }
 },
 "nbformat": 4,
 "nbformat_minor": 2
}
