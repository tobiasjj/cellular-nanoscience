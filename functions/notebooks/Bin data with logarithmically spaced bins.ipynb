{
 "cells": [
  {
   "cell_type": "code",
   "execution_count": null,
   "metadata": {},
   "outputs": [],
   "source": [
    "# Bin data with logarithmically spaced bins notebook\n",
    "# Copyright 2020 Tobias Jachowski\n",
    "#\n",
    "# Licensed under the Apache License, Version 2.0 (the \"License\");\n",
    "# you may not use this file except in compliance with the License.\n",
    "# You may obtain a copy of the License at\n",
    "#\n",
    "#   http://www.apache.org/licenses/LICENSE-2.0\n",
    "#\n",
    "# Unless required by applicable law or agreed to in writing, software\n",
    "# distributed under the License is distributed on an \"AS IS\" BASIS,\n",
    "# WITHOUT WARRANTIES OR CONDITIONS OF ANY KIND, either express or implied.\n",
    "# See the License for the specific language governing permissions and\n",
    "# limitations under the License."
   ]
  },
  {
   "cell_type": "code",
   "execution_count": null,
   "metadata": {},
   "outputs": [],
   "source": [
    "import matplotlib\n",
    "matplotlib.use('module://ipympl.backend_nbagg')\n",
    "from matplotlib import pyplot as plt\n",
    "\n",
    "import numpy as np\n",
    "import os\n",
    "import sys\n",
    "\n",
    "# Load packages\n",
    "software_path = os.path.join('..')\n",
    "sys.path.append(software_path)\n",
    "\n",
    "from functions.binning import calculate_bin_means"
   ]
  },
  {
   "cell_type": "code",
   "execution_count": null,
   "metadata": {},
   "outputs": [],
   "source": [
    "# Simulate noisy data: a line of 500 data points with noise between x = [1:1000] (f(x) = x/10)\n",
    "start_x = 1\n",
    "stop_x = 1000\n",
    "number_of_datapoints = 500\n",
    "number_of_bins = 10\n",
    "noise_level = 10\n",
    "x = np.linspace(start_x, stop_x, number_of_datapoints)\n",
    "y = x/10 + np.random.randn(number_of_datapoints) * noise_level\n",
    "\n",
    "# Calculate binned data with log spaced bins\n",
    "bin_edges = np.logspace(np.log10(start_x), np.log10(stop_x), number_of_bins+1)\n",
    "print('Calculate binned data with {} log spaced bins from x = {} to {}.'.format(number_of_bins, start_x, stop_x))\n",
    "# Concatenate x and y to one 2 dimensional array\n",
    "data = np.c_[x, y]\n",
    "# Bin data along x (sortcolumn=0)\n",
    "edges, centers, width, bin_means, bin_stds, bin_Ns = calculate_bin_means(data, edges=bin_edges, sortcolumn=0)\n",
    "x_binned = bin_means[:,0]\n",
    "y_binned = bin_means[:,1]\n",
    "x_errs = bin_stds[:,1] / np.sqrt(bin_Ns)\n",
    "y_errs = bin_stds[:,1] / np.sqrt(bin_Ns)\n",
    "\n",
    "# Plot the data and binned data in a semilog plot\n",
    "fig, ax = plt.subplots()\n",
    "ax.scatter(x, y, alpha=0.15, color='black', marker='.', lw=0, label=\"raw data\")\n",
    "ax.errorbar(centers, y_binned, yerr=y_errs, fmt='o', label=\"bin centers\")\n",
    "ax.errorbar(x_binned, y_binned,  xerr=x_errs, yerr=y_errs, fmt='.', label=\"bin means\")\n",
    "ax.set_xscale('log')\n",
    "ax.legend()\n",
    "fig.show()"
   ]
  }
 ],
 "metadata": {
  "kernelspec": {
   "display_name": "Python 3",
   "language": "python",
   "name": "python3"
  },
  "language_info": {
   "codemirror_mode": {
    "name": "ipython",
    "version": 3
   },
   "file_extension": ".py",
   "mimetype": "text/x-python",
   "name": "python",
   "nbconvert_exporter": "python",
   "pygments_lexer": "ipython3",
   "version": "3.8.2"
  },
  "widgets": {
   "application/vnd.jupyter.widget-state+json": {
    "state": {
     "12de69ee771e4826842d523bc84bb1ff": {
      "model_module": "jupyter-matplotlib",
      "model_module_version": "^0.7.2",
      "model_name": "MPLCanvasModel",
      "state": {
       "_cursor": "default",
       "_figure_label": "Figure 1",
       "_height": 480,
       "_width": 640,
       "layout": "IPY_MODEL_ca984d84c5834c62bfc3774fbce1c27b",
       "toolbar": "IPY_MODEL_9919a170d89d47d48b45d757c50835b6",
       "toolbar_position": "left"
      }
     },
     "9919a170d89d47d48b45d757c50835b6": {
      "model_module": "jupyter-matplotlib",
      "model_module_version": "^0.7.2",
      "model_name": "ToolbarModel",
      "state": {
       "layout": "IPY_MODEL_a96b05a11c7d47c98c05faba3d7a19e5",
       "toolitems": [
        [
         "Home",
         "Reset original view",
         "home",
         "home"
        ],
        [
         "Back",
         "Back to previous view",
         "arrow-left",
         "back"
        ],
        [
         "Forward",
         "Forward to next view",
         "arrow-right",
         "forward"
        ],
        [
         "Pan",
         "Pan axes with left mouse, zoom with right",
         "arrows",
         "pan"
        ],
        [
         "Zoom",
         "Zoom to rectangle",
         "square-o",
         "zoom"
        ],
        [
         "Download",
         "Download plot",
         "floppy-o",
         "save_figure"
        ]
       ]
      }
     },
     "a96b05a11c7d47c98c05faba3d7a19e5": {
      "model_module": "@jupyter-widgets/base",
      "model_module_version": "1.2.0",
      "model_name": "LayoutModel",
      "state": {}
     },
     "ca984d84c5834c62bfc3774fbce1c27b": {
      "model_module": "@jupyter-widgets/base",
      "model_module_version": "1.2.0",
      "model_name": "LayoutModel",
      "state": {}
     }
    },
    "version_major": 2,
    "version_minor": 0
   }
  }
 },
 "nbformat": 4,
 "nbformat_minor": 4
}
