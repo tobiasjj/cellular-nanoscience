{
 "cells": [
  {
   "cell_type": "code",
   "execution_count": null,
   "metadata": {},
   "outputs": [],
   "source": [
    "# Binning notebook\n",
    "# Copyright 2019, 2020 Tobias Jachowski\n",
    "#\n",
    "# Licensed under the Apache License, Version 2.0 (the \"License\");\n",
    "# you may not use this file except in compliance with the License.\n",
    "# You may obtain a copy of the License at\n",
    "#\n",
    "#   http://www.apache.org/licenses/LICENSE-2.0\n",
    "#\n",
    "# Unless required by applicable law or agreed to in writing, software\n",
    "# distributed under the License is distributed on an \"AS IS\" BASIS,\n",
    "# WITHOUT WARRANTIES OR CONDITIONS OF ANY KIND, either express or implied.\n",
    "# See the License for the specific language governing permissions and\n",
    "# limitations under the License."
   ]
  },
  {
   "cell_type": "code",
   "execution_count": null,
   "metadata": {},
   "outputs": [],
   "source": [
    "import matplotlib\n",
    "matplotlib.use('module://ipympl.backend_nbagg')\n",
    "from matplotlib import pyplot as plt\n",
    "\n",
    "import numpy as np\n",
    "import os\n",
    "import sys\n",
    "\n",
    "# Load packages\n",
    "software_path = os.path.join('..')\n",
    "sys.path.append(software_path)\n",
    "\n",
    "from functions.binning import calculate_bin_means, calculate_bin_means_ND, get_edges"
   ]
  },
  {
   "cell_type": "code",
   "execution_count": null,
   "metadata": {},
   "outputs": [],
   "source": [
    "#1D binning\n",
    "data = np.random.normal(loc=0.0, scale=1.0, size=(250,2))\n",
    "\n",
    "sortcolumn = 0\n",
    "plottrace = 1\n",
    "bins = 'sqrt'\n",
    "\n",
    "result = calculate_bin_means(data, bins=bins, sortcolumn=sortcolumn)\n",
    "edges, centers, width, bin_means, bin_stds, bin_Ns = result\n",
    "\n",
    "fig, ax = plt.subplots()\n",
    "ax.plot(bin_means[:, sortcolumn], bin_means)\n",
    "ax.bar(centers, bin_means[:,plottrace], width=width*0.85, yerr=bin_stds[:,plottrace], antialiased=True, color='orange')\n",
    "for x, y, N in zip(centers - width/3, bin_means[:,plottrace], bin_Ns):\n",
    "    ax.text(x, y, 'N={}'.format(N))\n",
    "\n",
    "plt.show()"
   ]
  },
  {
   "cell_type": "code",
   "execution_count": null,
   "metadata": {},
   "outputs": [],
   "source": [
    "#ND binning\n",
    "data = np.random.normal(loc=0.0, scale=1.0, size=(10000,2))\n",
    "bins = [50, 150]\n",
    "\n",
    "result = calculate_bin_means_ND(data, bins=bins)\n",
    "# edges, centers, widths, nbins = get_edges(data, bins)\n",
    "edges, centers, widths, bin_means, bin_stds, bin_Ns = result\n",
    "\n",
    "fig, ax = plt.subplots()\n",
    "ax.imshow(bin_Ns, cmap='gnuplot2', aspect=bins[1]/bins[0])\n",
    "fig.show()"
   ]
  }
 ],
 "metadata": {
  "kernelspec": {
   "display_name": "Python 3",
   "language": "python",
   "name": "python3"
  },
  "language_info": {
   "codemirror_mode": {
    "name": "ipython",
    "version": 3
   },
   "file_extension": ".py",
   "mimetype": "text/x-python",
   "name": "python",
   "nbconvert_exporter": "python",
   "pygments_lexer": "ipython3",
   "version": "3.8.2"
  },
  "widgets": {
   "application/vnd.jupyter.widget-state+json": {
    "state": {
     "20b373bec0d4471c8cefa515f581ac05": {
      "model_module": "jupyter-matplotlib",
      "model_module_version": "^0.7.2",
      "model_name": "ToolbarModel",
      "state": {
       "layout": "IPY_MODEL_b9d19ff800394087b2aad885417409b0",
       "toolitems": [
        [
         "Home",
         "Reset original view",
         "home",
         "home"
        ],
        [
         "Back",
         "Back to previous view",
         "arrow-left",
         "back"
        ],
        [
         "Forward",
         "Forward to next view",
         "arrow-right",
         "forward"
        ],
        [
         "Pan",
         "Pan axes with left mouse, zoom with right",
         "arrows",
         "pan"
        ],
        [
         "Zoom",
         "Zoom to rectangle",
         "square-o",
         "zoom"
        ],
        [
         "Download",
         "Download plot",
         "floppy-o",
         "save_figure"
        ]
       ]
      }
     },
     "496b416ea5cc4cd49a43ed05d7ce9c95": {
      "model_module": "@jupyter-widgets/base",
      "model_module_version": "1.2.0",
      "model_name": "LayoutModel",
      "state": {}
     },
     "67ad4bd55958480fb960fa2c8e33ee5b": {
      "model_module": "@jupyter-widgets/base",
      "model_module_version": "1.2.0",
      "model_name": "LayoutModel",
      "state": {}
     },
     "787b2209461b4513a9f023dbfbb64bd1": {
      "model_module": "jupyter-matplotlib",
      "model_module_version": "^0.7.2",
      "model_name": "MPLCanvasModel",
      "state": {
       "_cursor": "default",
       "_figure_label": "Figure 1",
       "_height": 480,
       "_width": 640,
       "layout": "IPY_MODEL_496b416ea5cc4cd49a43ed05d7ce9c95",
       "toolbar": "IPY_MODEL_d0144f39eb5843238da32c53e1e52e9d",
       "toolbar_position": "left"
      }
     },
     "863a3bf6d316491b80213794f8a9f68b": {
      "model_module": "jupyter-matplotlib",
      "model_module_version": "^0.7.2",
      "model_name": "MPLCanvasModel",
      "state": {
       "_cursor": "default",
       "_figure_label": "Figure 2",
       "_height": 480,
       "_width": 640,
       "layout": "IPY_MODEL_67ad4bd55958480fb960fa2c8e33ee5b",
       "toolbar": "IPY_MODEL_20b373bec0d4471c8cefa515f581ac05",
       "toolbar_position": "left"
      }
     },
     "a5e454fb1600423b9a335674650fa9cf": {
      "model_module": "@jupyter-widgets/base",
      "model_module_version": "1.2.0",
      "model_name": "LayoutModel",
      "state": {}
     },
     "b9d19ff800394087b2aad885417409b0": {
      "model_module": "@jupyter-widgets/base",
      "model_module_version": "1.2.0",
      "model_name": "LayoutModel",
      "state": {}
     },
     "d0144f39eb5843238da32c53e1e52e9d": {
      "model_module": "jupyter-matplotlib",
      "model_module_version": "^0.7.2",
      "model_name": "ToolbarModel",
      "state": {
       "layout": "IPY_MODEL_a5e454fb1600423b9a335674650fa9cf",
       "toolitems": [
        [
         "Home",
         "Reset original view",
         "home",
         "home"
        ],
        [
         "Back",
         "Back to previous view",
         "arrow-left",
         "back"
        ],
        [
         "Forward",
         "Forward to next view",
         "arrow-right",
         "forward"
        ],
        [
         "Pan",
         "Pan axes with left mouse, zoom with right",
         "arrows",
         "pan"
        ],
        [
         "Zoom",
         "Zoom to rectangle",
         "square-o",
         "zoom"
        ],
        [
         "Download",
         "Download plot",
         "floppy-o",
         "save_figure"
        ]
       ]
      }
     }
    },
    "version_major": 2,
    "version_minor": 0
   }
  }
 },
 "nbformat": 4,
 "nbformat_minor": 4
}
