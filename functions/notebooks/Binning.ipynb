{
 "cells": [
  {
   "cell_type": "code",
   "execution_count": null,
   "metadata": {},
   "outputs": [],
   "source": [
    "# Binning notebook\n",
    "# Copyright 2019 Tobias Jachowski\n",
    "#\n",
    "# Licensed under the Apache License, Version 2.0 (the \"License\");\n",
    "# you may not use this file except in compliance with the License.\n",
    "# You may obtain a copy of the License at\n",
    "#\n",
    "#   http://www.apache.org/licenses/LICENSE-2.0\n",
    "#\n",
    "# Unless required by applicable law or agreed to in writing, software\n",
    "# distributed under the License is distributed on an \"AS IS\" BASIS,\n",
    "# WITHOUT WARRANTIES OR CONDITIONS OF ANY KIND, either express or implied.\n",
    "# See the License for the specific language governing permissions and\n",
    "# limitations under the License."
   ]
  },
  {
   "cell_type": "code",
   "execution_count": 1,
   "metadata": {},
   "outputs": [],
   "source": [
    "import matplotlib\n",
    "import ipympl\n",
    "from matplotlib import pyplot as plt\n",
    "import numpy as np\n",
    "import sys\n",
    "\n",
    "sys.path.append('/srv/ipython-repo/tj_scripts')\n",
    "from cn_plot_style import cn_plot_style as cnps\n",
    "\n",
    "sys.path.append('/nfs/home/tobiasj/ZMBP/jupyter/development')\n",
    "from tj_scripts.functions.functions.force_extension import plot_force_extension, show_force_extension, binned_force_extension, fbnl_force_extension, plot_angle_extension\n",
    "from tj_scripts.functions.functions.filtering import filter_fbnl_data, filter_fbnl_region\n",
    "from tj_scripts.functions.functions.binning import calculate_bin_means, calculate_bin_means_ND, get_edges\n"
   ]
  },
  {
   "cell_type": "code",
   "execution_count": 2,
   "metadata": {},
   "outputs": [
    {
     "name": "stderr",
     "output_type": "stream",
     "text": [
      "/usr/local/lib/python3.7/dist-packages/numpy/core/_methods.py:140: RuntimeWarning: Degrees of freedom <= 0 for slice\n",
      "  keepdims=keepdims)\n",
      "/usr/local/lib/python3.7/dist-packages/numpy/core/_methods.py:130: RuntimeWarning: invalid value encountered in true_divide\n",
      "  ret, rcount, out=ret, casting='unsafe', subok=False)\n"
     ]
    },
    {
     "data": {
      "application/vnd.jupyter.widget-view+json": {
       "model_id": "5a4d285d39774176ab0bcc7695837744",
       "version_major": 2,
       "version_minor": 0
      },
      "text/plain": [
       "FigureCanvasNbAgg()"
      ]
     },
     "metadata": {},
     "output_type": "display_data"
    }
   ],
   "source": [
    "#1D binning\n",
    "data = np.random.normal(loc=0.0, scale=1.0, size=(250,2))\n",
    "\n",
    "sortcolumn = 0\n",
    "plottrace = 1\n",
    "bins = 'sqrt'\n",
    "\n",
    "result = calculate_bin_means(data, bins=bins, sortcolumn=sortcolumn)\n",
    "edges, centers, width, bin_means, bin_stds, bin_Ns = result\n",
    "\n",
    "plt.close('all')\n",
    "fig, ax = plt.subplots()\n",
    "#ax.plot(bin_centers, bin_means, '.')\n",
    "ax.plot(bin_means[:, sortcolumn], bin_means)\n",
    "ax.bar(centers, bin_means[:,plottrace], width=width*0.85, yerr=bin_stds[:,plottrace], antialiased=True, color='orange')\n",
    "for x, y, N in zip(centers - width/3, bin_means[:,plottrace], bin_Ns):\n",
    "    ax.text(x, y, 'N={}'.format(N))\n",
    "\n",
    "plt.show()"
   ]
  },
  {
   "cell_type": "code",
   "execution_count": 4,
   "metadata": {},
   "outputs": [
    {
     "data": {
      "application/vnd.jupyter.widget-view+json": {
       "model_id": "0a02c31622cf4bfd8f37eb9db583521a",
       "version_major": 2,
       "version_minor": 0
      },
      "text/plain": [
       "FigureCanvasNbAgg()"
      ]
     },
     "metadata": {},
     "output_type": "display_data"
    }
   ],
   "source": [
    "#ND binning\n",
    "data = np.random.normal(loc=0.0, scale=1.0, size=(10000,2))\n",
    "\n",
    "bins = [50, 150]\n",
    "\n",
    "result = calculate_bin_means_ND(data, bins=bins)\n",
    "edges, centers, widths, bin_means, bin_stds, bin_Ns = result\n",
    "\n",
    "with cnps.cn_plot(context='notebook'):\n",
    "    fig, ax = plt.subplots()\n",
    "    ax.imshow(bin_Ns, cmap='gnuplot2', aspect=bins[1]/bins[0])\n",
    "    fig.show()"
   ]
  },
  {
   "cell_type": "code",
   "execution_count": 10,
   "metadata": {},
   "outputs": [
    {
     "data": {
      "application/vnd.jupyter.widget-view+json": {
       "model_id": "6699b23dfd484673aa77436a519aced6",
       "version_major": 2,
       "version_minor": 0
      },
      "text/plain": [
       "FigureCanvasNbAgg()"
      ]
     },
     "metadata": {},
     "output_type": "display_data"
    }
   ],
   "source": [
    "bins = [50, 150]\n",
    "\n",
    "edges, centers, widths, nbins = get_edges(data, bins)\n",
    "hist, xedges, yedges = np.histogram2d(data[:,0], data[:,1], bins=edges)\n",
    "\n",
    "with cnps.cn_plot(context='notebook'):\n",
    "    fig, ax = plt.subplots()\n",
    "    ax.imshow(hist, cmap='gnuplot2', aspect=len(edges[1])/len(edges[0]))\n",
    "    fig.show()"
   ]
  },
  {
   "cell_type": "code",
   "execution_count": 11,
   "metadata": {},
   "outputs": [
    {
     "ename": "NameError",
     "evalue": "name 'tether' is not defined",
     "output_type": "error",
     "traceback": [
      "\u001b[0;31m---------------------------------------------------------------------------\u001b[0m",
      "\u001b[0;31mNameError\u001b[0m                                 Traceback (most recent call last)",
      "\u001b[0;32m<ipython-input-11-a0ef60ed2fb7>\u001b[0m in \u001b[0;36m<module>\u001b[0;34m\u001b[0m\n\u001b[1;32m     10\u001b[0m     \u001b[0minvert_x\u001b[0m \u001b[0;34m=\u001b[0m \u001b[0;36m1\u001b[0m\u001b[0;34m\u001b[0m\u001b[0;34m\u001b[0m\u001b[0m\n\u001b[1;32m     11\u001b[0m     \u001b[0;32mfor\u001b[0m \u001b[0mi\u001b[0m \u001b[0;32min\u001b[0m \u001b[0mI\u001b[0m\u001b[0;34m:\u001b[0m\u001b[0;34m\u001b[0m\u001b[0;34m\u001b[0m\u001b[0m\n\u001b[0;32m---> 12\u001b[0;31m         \u001b[0mbin_edges\u001b[0m\u001b[0;34m,\u001b[0m \u001b[0mbin_means\u001b[0m\u001b[0;34m,\u001b[0m \u001b[0mbin_stds\u001b[0m\u001b[0;34m,\u001b[0m \u001b[0mbin_Ns\u001b[0m \u001b[0;34m=\u001b[0m \u001b[0mbinned_force_extension\u001b[0m\u001b[0;34m(\u001b[0m\u001b[0mtether\u001b[0m\u001b[0;34m,\u001b[0m \u001b[0mi\u001b[0m\u001b[0;34m,\u001b[0m \u001b[0mbin_resolution\u001b[0m\u001b[0;34m,\u001b[0m \u001b[0msortcolumn\u001b[0m\u001b[0;34m,\u001b[0m \u001b[0mextra_traces\u001b[0m\u001b[0;34m)\u001b[0m\u001b[0;34m\u001b[0m\u001b[0;34m\u001b[0m\u001b[0m\n\u001b[0m\u001b[1;32m     13\u001b[0m         \u001b[0;32mfor\u001b[0m \u001b[0md\u001b[0m \u001b[0;32min\u001b[0m \u001b[0mrange\u001b[0m\u001b[0;34m(\u001b[0m\u001b[0;36m2\u001b[0m\u001b[0;34m)\u001b[0m\u001b[0;34m:\u001b[0m  \u001b[0;31m# 0 = stress, 1 = release\u001b[0m\u001b[0;34m\u001b[0m\u001b[0;34m\u001b[0m\u001b[0m\n\u001b[1;32m     14\u001b[0m             fig = plot_force_extension(\n",
      "\u001b[0;31mNameError\u001b[0m: name 'tether' is not defined"
     ]
    }
   ],
   "source": [
    "I = [1693]#, 1694]\n",
    "bin_resolution = 2  # datapoints per nm\n",
    "sortcolumn = 0\n",
    "extra_traces = None\n",
    "\n",
    "with cnps.cn_plot(context='notebook'):\n",
    "    fig = None\n",
    "    plotcolumn_x = 0\n",
    "    plotcolumn_y = 1\n",
    "    invert_x = 1\n",
    "    for i in I:\n",
    "        bin_edges, bin_means, bin_stds, bin_Ns = binned_force_extension(tether, i, bin_resolution, sortcolumn, extra_traces)\n",
    "        for d in range(2):  # 0 = stress, 1 = release\n",
    "            fig = plot_force_extension(\n",
    "                bin_means[d][:,plotcolumn_x] * invert_x,\n",
    "                bin_means[d][:,plotcolumn_y],\n",
    "                bin_stds[d][:,plotcolumn_y],\n",
    "                bin_stds[d][:,plotcolumn_y]/np.sqrt(bin_Ns[d]), \n",
    "                fig=fig)\n",
    "            ax = fig.gca()\n",
    "            ax.set_xlabel('Extension (nm)')\n",
    "            ax.set_ylabel('Force (nm)')\n",
    "            ax.set_title('Force Extension')"
   ]
  },
  {
   "cell_type": "code",
   "execution_count": null,
   "metadata": {},
   "outputs": [],
   "source": []
  }
 ],
 "metadata": {
  "kernelspec": {
   "display_name": "Python 3",
   "language": "python",
   "name": "python3"
  },
  "language_info": {
   "codemirror_mode": {
    "name": "ipython",
    "version": 3
   },
   "file_extension": ".py",
   "mimetype": "text/x-python",
   "name": "python",
   "nbconvert_exporter": "python",
   "pygments_lexer": "ipython3",
   "version": "3.7.3"
  },
  "widgets": {
   "application/vnd.jupyter.widget-state+json": {
    "state": {},
    "version_major": 2,
    "version_minor": 0
   }
  }
 },
 "nbformat": 4,
 "nbformat_minor": 4
}
